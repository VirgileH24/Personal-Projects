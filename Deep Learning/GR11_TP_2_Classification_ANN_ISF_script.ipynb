{
 "cells": [
  {
   "cell_type": "code",
   "execution_count": 93,
   "metadata": {},
   "outputs": [],
   "source": [
    "import pandas as pd\n",
    "df = pd.read_csv('credit_immobilier_ISF.csv')"
   ]
  },
  {
   "cell_type": "code",
   "execution_count": 94,
   "metadata": {},
   "outputs": [
    {
     "data": {
      "text/html": [
       "<div>\n",
       "<style scoped>\n",
       "    .dataframe tbody tr th:only-of-type {\n",
       "        vertical-align: middle;\n",
       "    }\n",
       "\n",
       "    .dataframe tbody tr th {\n",
       "        vertical-align: top;\n",
       "    }\n",
       "\n",
       "    .dataframe thead th {\n",
       "        text-align: right;\n",
       "    }\n",
       "</style>\n",
       "<table border=\"1\" class=\"dataframe\">\n",
       "  <thead>\n",
       "    <tr style=\"text-align: right;\">\n",
       "      <th></th>\n",
       "      <th>compte_courant</th>\n",
       "      <th>duree_emprunt_mois</th>\n",
       "      <th>historique_credit</th>\n",
       "      <th>raison</th>\n",
       "      <th>montant</th>\n",
       "      <th>compte_epargne</th>\n",
       "      <th>duree_emploi</th>\n",
       "      <th>annees_presence_logement</th>\n",
       "      <th>age</th>\n",
       "      <th>autre_credit</th>\n",
       "      <th>logement</th>\n",
       "      <th>nbre_emprunts_actuels</th>\n",
       "      <th>job</th>\n",
       "      <th>dependants</th>\n",
       "      <th>telephone</th>\n",
       "      <th>defaillant</th>\n",
       "      <th>revenufinal</th>\n",
       "    </tr>\n",
       "  </thead>\n",
       "  <tbody>\n",
       "    <tr>\n",
       "      <th>0</th>\n",
       "      <td>&lt; 0 Euro</td>\n",
       "      <td>6</td>\n",
       "      <td>critique</td>\n",
       "      <td>ameublement</td>\n",
       "      <td>1169</td>\n",
       "      <td>inconnu</td>\n",
       "      <td>&gt; 7 annees</td>\n",
       "      <td>4.0</td>\n",
       "      <td>67.0</td>\n",
       "      <td>aucun</td>\n",
       "      <td>proprietaire</td>\n",
       "      <td>2</td>\n",
       "      <td>qualifie</td>\n",
       "      <td>1</td>\n",
       "      <td>oui</td>\n",
       "      <td>non</td>\n",
       "      <td>8135.110140</td>\n",
       "    </tr>\n",
       "    <tr>\n",
       "      <th>1</th>\n",
       "      <td>1 - 200 Euro</td>\n",
       "      <td>48</td>\n",
       "      <td>bon</td>\n",
       "      <td>ameublement</td>\n",
       "      <td>5951</td>\n",
       "      <td>&lt; 100 Euro</td>\n",
       "      <td>1 - 4 annees</td>\n",
       "      <td>2.0</td>\n",
       "      <td>22.0</td>\n",
       "      <td>aucun</td>\n",
       "      <td>proprietaire</td>\n",
       "      <td>1</td>\n",
       "      <td>qualifie</td>\n",
       "      <td>1</td>\n",
       "      <td>oui</td>\n",
       "      <td>oui</td>\n",
       "      <td>19334.307686</td>\n",
       "    </tr>\n",
       "    <tr>\n",
       "      <th>2</th>\n",
       "      <td>inconnu</td>\n",
       "      <td>12</td>\n",
       "      <td>critique</td>\n",
       "      <td>education</td>\n",
       "      <td>2096</td>\n",
       "      <td>&lt; 100 Euro</td>\n",
       "      <td>4 - 7 annees</td>\n",
       "      <td>3.0</td>\n",
       "      <td>49.0</td>\n",
       "      <td>aucun</td>\n",
       "      <td>proprietaire</td>\n",
       "      <td>1</td>\n",
       "      <td>non_qualifie</td>\n",
       "      <td>2</td>\n",
       "      <td>oui</td>\n",
       "      <td>non</td>\n",
       "      <td>4864.954258</td>\n",
       "    </tr>\n",
       "    <tr>\n",
       "      <th>3</th>\n",
       "      <td>&lt; 0 Euro</td>\n",
       "      <td>42</td>\n",
       "      <td>bon</td>\n",
       "      <td>ameublement</td>\n",
       "      <td>7882</td>\n",
       "      <td>&lt; 100 Euro</td>\n",
       "      <td>4 - 7 annees</td>\n",
       "      <td>4.0</td>\n",
       "      <td>45.0</td>\n",
       "      <td>aucun</td>\n",
       "      <td>autre</td>\n",
       "      <td>1</td>\n",
       "      <td>qualifie</td>\n",
       "      <td>2</td>\n",
       "      <td>oui</td>\n",
       "      <td>non</td>\n",
       "      <td>22152.947349</td>\n",
       "    </tr>\n",
       "    <tr>\n",
       "      <th>4</th>\n",
       "      <td>&lt; 0 Euro</td>\n",
       "      <td>24</td>\n",
       "      <td>pauvre</td>\n",
       "      <td>auto</td>\n",
       "      <td>4870</td>\n",
       "      <td>&lt; 100 Euro</td>\n",
       "      <td>1 - 4 annees</td>\n",
       "      <td>4.0</td>\n",
       "      <td>53.0</td>\n",
       "      <td>aucun</td>\n",
       "      <td>autre</td>\n",
       "      <td>2</td>\n",
       "      <td>qualifie</td>\n",
       "      <td>2</td>\n",
       "      <td>oui</td>\n",
       "      <td>oui</td>\n",
       "      <td>23900.704144</td>\n",
       "    </tr>\n",
       "  </tbody>\n",
       "</table>\n",
       "</div>"
      ],
      "text/plain": [
       "  compte_courant  duree_emprunt_mois historique_credit       raison  montant  \\\n",
       "0       < 0 Euro                   6          critique  ameublement     1169   \n",
       "1   1 - 200 Euro                  48               bon  ameublement     5951   \n",
       "2        inconnu                  12          critique    education     2096   \n",
       "3       < 0 Euro                  42               bon  ameublement     7882   \n",
       "4       < 0 Euro                  24            pauvre         auto     4870   \n",
       "\n",
       "  compte_epargne  duree_emploi  annees_presence_logement   age autre_credit  \\\n",
       "0        inconnu    > 7 annees                       4.0  67.0        aucun   \n",
       "1     < 100 Euro  1 - 4 annees                       2.0  22.0        aucun   \n",
       "2     < 100 Euro  4 - 7 annees                       3.0  49.0        aucun   \n",
       "3     < 100 Euro  4 - 7 annees                       4.0  45.0        aucun   \n",
       "4     < 100 Euro  1 - 4 annees                       4.0  53.0        aucun   \n",
       "\n",
       "       logement  nbre_emprunts_actuels           job dependants telephone  \\\n",
       "0  proprietaire                      2      qualifie          1       oui   \n",
       "1  proprietaire                      1      qualifie          1       oui   \n",
       "2  proprietaire                      1  non_qualifie          2       oui   \n",
       "3         autre                      1      qualifie          2       oui   \n",
       "4         autre                      2      qualifie          2       oui   \n",
       "\n",
       "  defaillant   revenufinal  \n",
       "0        non   8135.110140  \n",
       "1        oui  19334.307686  \n",
       "2        non   4864.954258  \n",
       "3        non  22152.947349  \n",
       "4        oui  23900.704144  "
      ]
     },
     "execution_count": 94,
     "metadata": {},
     "output_type": "execute_result"
    }
   ],
   "source": [
    "df.head()"
   ]
  },
  {
   "cell_type": "code",
   "execution_count": 95,
   "metadata": {},
   "outputs": [
    {
     "data": {
      "text/html": [
       "<div>\n",
       "<style scoped>\n",
       "    .dataframe tbody tr th:only-of-type {\n",
       "        vertical-align: middle;\n",
       "    }\n",
       "\n",
       "    .dataframe tbody tr th {\n",
       "        vertical-align: top;\n",
       "    }\n",
       "\n",
       "    .dataframe thead th {\n",
       "        text-align: right;\n",
       "    }\n",
       "</style>\n",
       "<table border=\"1\" class=\"dataframe\">\n",
       "  <thead>\n",
       "    <tr style=\"text-align: right;\">\n",
       "      <th></th>\n",
       "      <th>compte_courant</th>\n",
       "      <th>duree_emprunt_mois</th>\n",
       "      <th>historique_credit</th>\n",
       "      <th>raison</th>\n",
       "      <th>montant</th>\n",
       "      <th>compte_epargne</th>\n",
       "      <th>duree_emploi</th>\n",
       "      <th>annees_presence_logement</th>\n",
       "      <th>age</th>\n",
       "      <th>autre_credit</th>\n",
       "      <th>logement</th>\n",
       "      <th>nbre_emprunts_actuels</th>\n",
       "      <th>job</th>\n",
       "      <th>dependants</th>\n",
       "      <th>telephone</th>\n",
       "      <th>defaillant</th>\n",
       "      <th>revenufinal</th>\n",
       "    </tr>\n",
       "  </thead>\n",
       "  <tbody>\n",
       "    <tr>\n",
       "      <th>1016</th>\n",
       "      <td>inconnu</td>\n",
       "      <td>45</td>\n",
       "      <td>critique</td>\n",
       "      <td>auto</td>\n",
       "      <td>4576</td>\n",
       "      <td>100 - 500 Euro</td>\n",
       "      <td>chomeur</td>\n",
       "      <td>4.0</td>\n",
       "      <td>27.0</td>\n",
       "      <td>aucun</td>\n",
       "      <td>proprietaire</td>\n",
       "      <td>1</td>\n",
       "      <td>qualifie</td>\n",
       "      <td>1</td>\n",
       "      <td>oui</td>\n",
       "      <td>non</td>\n",
       "      <td>17281.972830</td>\n",
       "    </tr>\n",
       "    <tr>\n",
       "      <th>1017</th>\n",
       "      <td>1 - 200 Euro</td>\n",
       "      <td>45</td>\n",
       "      <td>critique</td>\n",
       "      <td>auto</td>\n",
       "      <td>4576</td>\n",
       "      <td>100 - 500 Euro</td>\n",
       "      <td>chomeur</td>\n",
       "      <td>4.0</td>\n",
       "      <td>27.0</td>\n",
       "      <td>aucun</td>\n",
       "      <td>proprietaire</td>\n",
       "      <td>1</td>\n",
       "      <td>qualifie</td>\n",
       "      <td>1</td>\n",
       "      <td>oui</td>\n",
       "      <td>non</td>\n",
       "      <td>23544.389153</td>\n",
       "    </tr>\n",
       "    <tr>\n",
       "      <th>1018</th>\n",
       "      <td>inconnu</td>\n",
       "      <td>15</td>\n",
       "      <td>critique</td>\n",
       "      <td>auto</td>\n",
       "      <td>5045</td>\n",
       "      <td>inconnu</td>\n",
       "      <td>&gt; 7 annees</td>\n",
       "      <td>4.0</td>\n",
       "      <td>59.0</td>\n",
       "      <td>aucun</td>\n",
       "      <td>proprietaire</td>\n",
       "      <td>1</td>\n",
       "      <td>qualifie</td>\n",
       "      <td>1</td>\n",
       "      <td>oui</td>\n",
       "      <td>non</td>\n",
       "      <td>6247.903416</td>\n",
       "    </tr>\n",
       "    <tr>\n",
       "      <th>1019</th>\n",
       "      <td>1 - 200 Euro</td>\n",
       "      <td>15</td>\n",
       "      <td>tres bon</td>\n",
       "      <td>auto</td>\n",
       "      <td>1234</td>\n",
       "      <td>100 - 500 Euro</td>\n",
       "      <td>1 - 4 annees</td>\n",
       "      <td>2.0</td>\n",
       "      <td>25.0</td>\n",
       "      <td>aucun</td>\n",
       "      <td>locataire</td>\n",
       "      <td>1</td>\n",
       "      <td>qualifie</td>\n",
       "      <td>1</td>\n",
       "      <td>oui</td>\n",
       "      <td>oui</td>\n",
       "      <td>3702.608164</td>\n",
       "    </tr>\n",
       "    <tr>\n",
       "      <th>1020</th>\n",
       "      <td>1 - 200 Euro</td>\n",
       "      <td>35</td>\n",
       "      <td>bon</td>\n",
       "      <td>auto</td>\n",
       "      <td>1734</td>\n",
       "      <td>100 - 500 Euro</td>\n",
       "      <td>1 - 4 annees</td>\n",
       "      <td>2.0</td>\n",
       "      <td>25.0</td>\n",
       "      <td>aucun</td>\n",
       "      <td>proprietaire</td>\n",
       "      <td>1</td>\n",
       "      <td>qualifie</td>\n",
       "      <td>1</td>\n",
       "      <td>oui</td>\n",
       "      <td>oui</td>\n",
       "      <td>9141.314880</td>\n",
       "    </tr>\n",
       "  </tbody>\n",
       "</table>\n",
       "</div>"
      ],
      "text/plain": [
       "     compte_courant  duree_emprunt_mois historique_credit raison  montant  \\\n",
       "1016        inconnu                  45          critique   auto     4576   \n",
       "1017   1 - 200 Euro                  45          critique   auto     4576   \n",
       "1018        inconnu                  15          critique   auto     5045   \n",
       "1019   1 - 200 Euro                  15          tres bon   auto     1234   \n",
       "1020   1 - 200 Euro                  35               bon   auto     1734   \n",
       "\n",
       "      compte_epargne  duree_emploi  annees_presence_logement   age  \\\n",
       "1016  100 - 500 Euro       chomeur                       4.0  27.0   \n",
       "1017  100 - 500 Euro       chomeur                       4.0  27.0   \n",
       "1018         inconnu    > 7 annees                       4.0  59.0   \n",
       "1019  100 - 500 Euro  1 - 4 annees                       2.0  25.0   \n",
       "1020  100 - 500 Euro  1 - 4 annees                       2.0  25.0   \n",
       "\n",
       "     autre_credit      logement  nbre_emprunts_actuels       job dependants  \\\n",
       "1016        aucun  proprietaire                      1  qualifie          1   \n",
       "1017        aucun  proprietaire                      1  qualifie          1   \n",
       "1018        aucun  proprietaire                      1  qualifie          1   \n",
       "1019        aucun     locataire                      1  qualifie          1   \n",
       "1020        aucun  proprietaire                      1  qualifie          1   \n",
       "\n",
       "     telephone defaillant   revenufinal  \n",
       "1016       oui        non  17281.972830  \n",
       "1017       oui        non  23544.389153  \n",
       "1018       oui        non   6247.903416  \n",
       "1019       oui        oui   3702.608164  \n",
       "1020       oui        oui   9141.314880  "
      ]
     },
     "execution_count": 95,
     "metadata": {},
     "output_type": "execute_result"
    }
   ],
   "source": [
    "df.tail()"
   ]
  },
  {
   "cell_type": "code",
   "execution_count": 96,
   "metadata": {},
   "outputs": [
    {
     "name": "stdout",
     "output_type": "stream",
     "text": [
      "<class 'pandas.core.frame.DataFrame'>\n",
      "RangeIndex: 1021 entries, 0 to 1020\n",
      "Data columns (total 17 columns):\n",
      " #   Column                    Non-Null Count  Dtype  \n",
      "---  ------                    --------------  -----  \n",
      " 0   compte_courant            1021 non-null   object \n",
      " 1   duree_emprunt_mois        1021 non-null   int64  \n",
      " 2   historique_credit         1021 non-null   object \n",
      " 3   raison                    1021 non-null   object \n",
      " 4   montant                   1021 non-null   int64  \n",
      " 5   compte_epargne            1020 non-null   object \n",
      " 6   duree_emploi              1021 non-null   object \n",
      " 7   annees_presence_logement  1018 non-null   float64\n",
      " 8   age                       1020 non-null   float64\n",
      " 9   autre_credit              1021 non-null   object \n",
      " 10  logement                  1021 non-null   object \n",
      " 11  nbre_emprunts_actuels     1021 non-null   int64  \n",
      " 12  job                       1018 non-null   object \n",
      " 13  dependants                1021 non-null   object \n",
      " 14  telephone                 1021 non-null   object \n",
      " 15  defaillant                1020 non-null   object \n",
      " 16  revenufinal               1021 non-null   float64\n",
      "dtypes: float64(3), int64(3), object(11)\n",
      "memory usage: 135.7+ KB\n"
     ]
    }
   ],
   "source": [
    "df.info()"
   ]
  },
  {
   "cell_type": "code",
   "execution_count": 97,
   "metadata": {},
   "outputs": [
    {
     "data": {
      "text/plain": [
       "compte_courant              0\n",
       "duree_emprunt_mois          0\n",
       "historique_credit           0\n",
       "raison                      0\n",
       "montant                     0\n",
       "compte_epargne              1\n",
       "duree_emploi                0\n",
       "annees_presence_logement    3\n",
       "age                         1\n",
       "autre_credit                0\n",
       "logement                    0\n",
       "nbre_emprunts_actuels       0\n",
       "job                         3\n",
       "dependants                  0\n",
       "telephone                   0\n",
       "defaillant                  1\n",
       "revenufinal                 0\n",
       "dtype: int64"
      ]
     },
     "execution_count": 97,
     "metadata": {},
     "output_type": "execute_result"
    }
   ],
   "source": [
    "df.isnull().sum()"
   ]
  },
  {
   "cell_type": "code",
   "execution_count": 272,
   "metadata": {},
   "outputs": [],
   "source": [
    "# (df == 'inconnu').sum()/len(df)"
   ]
  },
  {
   "cell_type": "code",
   "execution_count": 273,
   "metadata": {},
   "outputs": [],
   "source": [
    "# df['defaillant'].value_counts()"
   ]
  },
  {
   "cell_type": "code",
   "execution_count": 275,
   "metadata": {},
   "outputs": [],
   "source": [
    "#df.select_dtypes(exclude=['int64', 'float']).columns"
   ]
  },
  {
   "cell_type": "code",
   "execution_count": 274,
   "metadata": {},
   "outputs": [],
   "source": [
    "#df.columns"
   ]
  },
  {
   "cell_type": "markdown",
   "metadata": {},
   "source": [
    "# 0-Prétraitement"
   ]
  },
  {
   "cell_type": "markdown",
   "metadata": {},
   "source": [
    "### Feature 'telephone'"
   ]
  },
  {
   "cell_type": "code",
   "execution_count": 102,
   "metadata": {},
   "outputs": [
    {
     "data": {
      "text/plain": [
       "oui    1021\n",
       "Name: telephone, dtype: int64"
      ]
     },
     "execution_count": 102,
     "metadata": {},
     "output_type": "execute_result"
    }
   ],
   "source": [
    "df['telephone'].value_counts()"
   ]
  },
  {
   "cell_type": "code",
   "execution_count": 103,
   "metadata": {},
   "outputs": [],
   "source": [
    "# Drop 'telephone' car il n'y a qu'une seule valeur\n",
    "df = df.drop('telephone', axis=1)"
   ]
  },
  {
   "cell_type": "markdown",
   "metadata": {},
   "source": [
    "### Feature 'dependants'"
   ]
  },
  {
   "cell_type": "code",
   "execution_count": 104,
   "metadata": {},
   "outputs": [
    {
     "data": {
      "text/plain": [
       "1      864\n",
       "2      156\n",
       "oui      1\n",
       "Name: dependants, dtype: int64"
      ]
     },
     "execution_count": 104,
     "metadata": {},
     "output_type": "execute_result"
    }
   ],
   "source": [
    "df['dependants'].value_counts()"
   ]
  },
  {
   "cell_type": "code",
   "execution_count": 105,
   "metadata": {},
   "outputs": [
    {
     "name": "stderr",
     "output_type": "stream",
     "text": [
      "D:\\ProgramData\\Anaconda3\\lib\\site-packages\\ipykernel_launcher.py:1: SettingWithCopyWarning: \n",
      "A value is trying to be set on a copy of a slice from a DataFrame\n",
      "\n",
      "See the caveats in the documentation: https://pandas.pydata.org/pandas-docs/stable/user_guide/indexing.html#returning-a-view-versus-a-copy\n",
      "  \"\"\"Entry point for launching an IPython kernel.\n"
     ]
    },
    {
     "data": {
      "text/plain": [
       "1    865\n",
       "2    156\n",
       "Name: dependants, dtype: int64"
      ]
     },
     "execution_count": 105,
     "metadata": {},
     "output_type": "execute_result"
    }
   ],
   "source": [
    "df['dependants'][df['dependants']=='oui'] = df['dependants'].mode()[0]\n",
    "df['dependants'].value_counts()"
   ]
  },
  {
   "cell_type": "code",
   "execution_count": 106,
   "metadata": {},
   "outputs": [
    {
     "name": "stdout",
     "output_type": "stream",
     "text": [
      "<class 'pandas.core.frame.DataFrame'>\n",
      "RangeIndex: 1021 entries, 0 to 1020\n",
      "Data columns (total 16 columns):\n",
      " #   Column                    Non-Null Count  Dtype  \n",
      "---  ------                    --------------  -----  \n",
      " 0   compte_courant            1021 non-null   object \n",
      " 1   duree_emprunt_mois        1021 non-null   int64  \n",
      " 2   historique_credit         1021 non-null   object \n",
      " 3   raison                    1021 non-null   object \n",
      " 4   montant                   1021 non-null   int64  \n",
      " 5   compte_epargne            1020 non-null   object \n",
      " 6   duree_emploi              1021 non-null   object \n",
      " 7   annees_presence_logement  1018 non-null   float64\n",
      " 8   age                       1020 non-null   float64\n",
      " 9   autre_credit              1021 non-null   object \n",
      " 10  logement                  1021 non-null   object \n",
      " 11  nbre_emprunts_actuels     1021 non-null   int64  \n",
      " 12  job                       1018 non-null   object \n",
      " 13  dependants                1021 non-null   int64  \n",
      " 14  defaillant                1020 non-null   object \n",
      " 15  revenufinal               1021 non-null   float64\n",
      "dtypes: float64(3), int64(4), object(9)\n",
      "memory usage: 127.8+ KB\n"
     ]
    }
   ],
   "source": [
    "df['dependants']=df['dependants'].astype('int64')\n",
    "#df.info()"
   ]
  },
  {
   "cell_type": "code",
   "execution_count": 107,
   "metadata": {},
   "outputs": [
    {
     "data": {
      "text/plain": [
       "Index(['compte_courant', 'historique_credit', 'raison', 'compte_epargne',\n",
       "       'duree_emploi', 'autre_credit', 'logement', 'job', 'defaillant'],\n",
       "      dtype='object')"
      ]
     },
     "execution_count": 107,
     "metadata": {},
     "output_type": "execute_result"
    }
   ],
   "source": [
    "#df.select_dtypes(exclude=['int64', 'float']).columns"
   ]
  },
  {
   "cell_type": "code",
   "execution_count": 108,
   "metadata": {},
   "outputs": [
    {
     "data": {
      "text/plain": [
       "compte_courant              0\n",
       "duree_emprunt_mois          0\n",
       "historique_credit           0\n",
       "raison                      0\n",
       "montant                     0\n",
       "compte_epargne              1\n",
       "duree_emploi                0\n",
       "annees_presence_logement    3\n",
       "age                         1\n",
       "autre_credit                0\n",
       "logement                    0\n",
       "nbre_emprunts_actuels       0\n",
       "job                         3\n",
       "dependants                  0\n",
       "defaillant                  1\n",
       "revenufinal                 0\n",
       "dtype: int64"
      ]
     },
     "execution_count": 108,
     "metadata": {},
     "output_type": "execute_result"
    }
   ],
   "source": [
    "#df.isnull().sum()"
   ]
  },
  {
   "cell_type": "markdown",
   "metadata": {},
   "source": [
    "### Feature 'compte_epargne'"
   ]
  },
  {
   "cell_type": "code",
   "execution_count": 124,
   "metadata": {},
   "outputs": [
    {
     "data": {
      "text/plain": [
       "< 100 Euro         612\n",
       "inconnu            189\n",
       "100 - 500 Euro     108\n",
       "500 - 1000 Euro     64\n",
       "> 1000 Euro         48\n",
       "Name: compte_epargne, dtype: int64"
      ]
     },
     "execution_count": 124,
     "metadata": {},
     "output_type": "execute_result"
    }
   ],
   "source": [
    "df['compte_epargne'].value_counts()"
   ]
  },
  {
   "cell_type": "code",
   "execution_count": 115,
   "metadata": {},
   "outputs": [],
   "source": [
    "df['compte_epargne'] = df['compte_epargne'].fillna(df['compte_epargne'].mode()[0])"
   ]
  },
  {
   "cell_type": "markdown",
   "metadata": {},
   "source": [
    "### Feature 'annees_presence_logement' "
   ]
  },
  {
   "cell_type": "code",
   "execution_count": 117,
   "metadata": {},
   "outputs": [
    {
     "data": {
      "text/plain": [
       "3.0"
      ]
     },
     "execution_count": 117,
     "metadata": {},
     "output_type": "execute_result"
    }
   ],
   "source": [
    "df['annees_presence_logement'].median()"
   ]
  },
  {
   "cell_type": "code",
   "execution_count": 118,
   "metadata": {},
   "outputs": [],
   "source": [
    "df['annees_presence_logement'] = df['annees_presence_logement'].fillna(df['annees_presence_logement'].median()) "
   ]
  },
  {
   "cell_type": "markdown",
   "metadata": {},
   "source": [
    "### Feature 'age'"
   ]
  },
  {
   "cell_type": "code",
   "execution_count": 119,
   "metadata": {},
   "outputs": [
    {
     "data": {
      "text/plain": [
       "33.0"
      ]
     },
     "execution_count": 119,
     "metadata": {},
     "output_type": "execute_result"
    }
   ],
   "source": [
    "df['age'].median()"
   ]
  },
  {
   "cell_type": "code",
   "execution_count": 120,
   "metadata": {},
   "outputs": [],
   "source": [
    "df['age'] = df['age'].fillna(df['age'].median())"
   ]
  },
  {
   "cell_type": "markdown",
   "metadata": {},
   "source": [
    "### Feature 'job'"
   ]
  },
  {
   "cell_type": "code",
   "execution_count": 123,
   "metadata": {},
   "outputs": [
    {
     "data": {
      "text/plain": [
       "qualifie        648\n",
       "non_qualifie    199\n",
       "management      148\n",
       "chomeur          22\n",
       "oui               1\n",
       "Name: job, dtype: int64"
      ]
     },
     "execution_count": 123,
     "metadata": {},
     "output_type": "execute_result"
    }
   ],
   "source": [
    "df['job'].value_counts()"
   ]
  },
  {
   "cell_type": "code",
   "execution_count": 125,
   "metadata": {},
   "outputs": [
    {
     "name": "stderr",
     "output_type": "stream",
     "text": [
      "D:\\ProgramData\\Anaconda3\\lib\\site-packages\\ipykernel_launcher.py:2: SettingWithCopyWarning: \n",
      "A value is trying to be set on a copy of a slice from a DataFrame\n",
      "\n",
      "See the caveats in the documentation: https://pandas.pydata.org/pandas-docs/stable/user_guide/indexing.html#returning-a-view-versus-a-copy\n",
      "  \n"
     ]
    },
    {
     "data": {
      "text/plain": [
       "qualifie        652\n",
       "non_qualifie    199\n",
       "management      148\n",
       "chomeur          22\n",
       "Name: job, dtype: int64"
      ]
     },
     "execution_count": 125,
     "metadata": {},
     "output_type": "execute_result"
    }
   ],
   "source": [
    "df['job'] = df['job'].fillna(df['job'].mode()[0])\n",
    "df['job'][df['job']=='oui'] = df['job'].mode()[0]\n",
    "df['job'].value_counts()"
   ]
  },
  {
   "cell_type": "markdown",
   "metadata": {},
   "source": [
    "### Label 'defaillant'"
   ]
  },
  {
   "cell_type": "code",
   "execution_count": 127,
   "metadata": {},
   "outputs": [
    {
     "data": {
      "text/plain": [
       "non    718\n",
       "oui    303\n",
       "Name: defaillant, dtype: int64"
      ]
     },
     "execution_count": 127,
     "metadata": {},
     "output_type": "execute_result"
    }
   ],
   "source": [
    "df['defaillant'] = df['defaillant'].fillna(df['defaillant'].mode()[0])\n",
    "df['defaillant'].value_counts()"
   ]
  },
  {
   "cell_type": "code",
   "execution_count": 128,
   "metadata": {},
   "outputs": [
    {
     "data": {
      "text/plain": [
       "Index(['compte_courant', 'historique_credit', 'raison', 'compte_epargne',\n",
       "       'duree_emploi', 'autre_credit', 'logement', 'job', 'defaillant'],\n",
       "      dtype='object')"
      ]
     },
     "execution_count": 128,
     "metadata": {},
     "output_type": "execute_result"
    }
   ],
   "source": [
    "df.select_dtypes(exclude=['int64', 'float']).columns"
   ]
  },
  {
   "cell_type": "markdown",
   "metadata": {},
   "source": [
    "### données final"
   ]
  },
  {
   "cell_type": "code",
   "execution_count": 138,
   "metadata": {},
   "outputs": [],
   "source": [
    "df_final = df.copy()"
   ]
  },
  {
   "cell_type": "code",
   "execution_count": 139,
   "metadata": {},
   "outputs": [
    {
     "data": {
      "text/html": [
       "<div>\n",
       "<style scoped>\n",
       "    .dataframe tbody tr th:only-of-type {\n",
       "        vertical-align: middle;\n",
       "    }\n",
       "\n",
       "    .dataframe tbody tr th {\n",
       "        vertical-align: top;\n",
       "    }\n",
       "\n",
       "    .dataframe thead th {\n",
       "        text-align: right;\n",
       "    }\n",
       "</style>\n",
       "<table border=\"1\" class=\"dataframe\">\n",
       "  <thead>\n",
       "    <tr style=\"text-align: right;\">\n",
       "      <th></th>\n",
       "      <th>duree_emprunt_mois</th>\n",
       "      <th>montant</th>\n",
       "      <th>annees_presence_logement</th>\n",
       "      <th>age</th>\n",
       "      <th>nbre_emprunts_actuels</th>\n",
       "      <th>dependants</th>\n",
       "      <th>revenufinal</th>\n",
       "      <th>compte_courant_&lt; 0 Euro</th>\n",
       "      <th>compte_courant_&gt; 200 Euro</th>\n",
       "      <th>compte_courant_inconnu</th>\n",
       "      <th>...</th>\n",
       "      <th>autre_credit_aucun</th>\n",
       "      <th>autre_credit_banque</th>\n",
       "      <th>autre_credit_magasin</th>\n",
       "      <th>logement_locataire</th>\n",
       "      <th>logement_proprietaire</th>\n",
       "      <th>logement_qualifie</th>\n",
       "      <th>job_management</th>\n",
       "      <th>job_non_qualifie</th>\n",
       "      <th>job_qualifie</th>\n",
       "      <th>defaillant_oui</th>\n",
       "    </tr>\n",
       "  </thead>\n",
       "  <tbody>\n",
       "    <tr>\n",
       "      <th>0</th>\n",
       "      <td>6</td>\n",
       "      <td>1169</td>\n",
       "      <td>4.0</td>\n",
       "      <td>67.0</td>\n",
       "      <td>2</td>\n",
       "      <td>1</td>\n",
       "      <td>8135.110140</td>\n",
       "      <td>1</td>\n",
       "      <td>0</td>\n",
       "      <td>0</td>\n",
       "      <td>...</td>\n",
       "      <td>1</td>\n",
       "      <td>0</td>\n",
       "      <td>0</td>\n",
       "      <td>0</td>\n",
       "      <td>1</td>\n",
       "      <td>0</td>\n",
       "      <td>0</td>\n",
       "      <td>0</td>\n",
       "      <td>1</td>\n",
       "      <td>0</td>\n",
       "    </tr>\n",
       "    <tr>\n",
       "      <th>1</th>\n",
       "      <td>48</td>\n",
       "      <td>5951</td>\n",
       "      <td>2.0</td>\n",
       "      <td>22.0</td>\n",
       "      <td>1</td>\n",
       "      <td>1</td>\n",
       "      <td>19334.307686</td>\n",
       "      <td>0</td>\n",
       "      <td>0</td>\n",
       "      <td>0</td>\n",
       "      <td>...</td>\n",
       "      <td>1</td>\n",
       "      <td>0</td>\n",
       "      <td>0</td>\n",
       "      <td>0</td>\n",
       "      <td>1</td>\n",
       "      <td>0</td>\n",
       "      <td>0</td>\n",
       "      <td>0</td>\n",
       "      <td>1</td>\n",
       "      <td>1</td>\n",
       "    </tr>\n",
       "    <tr>\n",
       "      <th>2</th>\n",
       "      <td>12</td>\n",
       "      <td>2096</td>\n",
       "      <td>3.0</td>\n",
       "      <td>49.0</td>\n",
       "      <td>1</td>\n",
       "      <td>2</td>\n",
       "      <td>4864.954258</td>\n",
       "      <td>0</td>\n",
       "      <td>0</td>\n",
       "      <td>1</td>\n",
       "      <td>...</td>\n",
       "      <td>1</td>\n",
       "      <td>0</td>\n",
       "      <td>0</td>\n",
       "      <td>0</td>\n",
       "      <td>1</td>\n",
       "      <td>0</td>\n",
       "      <td>0</td>\n",
       "      <td>1</td>\n",
       "      <td>0</td>\n",
       "      <td>0</td>\n",
       "    </tr>\n",
       "    <tr>\n",
       "      <th>3</th>\n",
       "      <td>42</td>\n",
       "      <td>7882</td>\n",
       "      <td>4.0</td>\n",
       "      <td>45.0</td>\n",
       "      <td>1</td>\n",
       "      <td>2</td>\n",
       "      <td>22152.947349</td>\n",
       "      <td>1</td>\n",
       "      <td>0</td>\n",
       "      <td>0</td>\n",
       "      <td>...</td>\n",
       "      <td>1</td>\n",
       "      <td>0</td>\n",
       "      <td>0</td>\n",
       "      <td>0</td>\n",
       "      <td>0</td>\n",
       "      <td>0</td>\n",
       "      <td>0</td>\n",
       "      <td>0</td>\n",
       "      <td>1</td>\n",
       "      <td>0</td>\n",
       "    </tr>\n",
       "    <tr>\n",
       "      <th>4</th>\n",
       "      <td>24</td>\n",
       "      <td>4870</td>\n",
       "      <td>4.0</td>\n",
       "      <td>53.0</td>\n",
       "      <td>2</td>\n",
       "      <td>2</td>\n",
       "      <td>23900.704144</td>\n",
       "      <td>1</td>\n",
       "      <td>0</td>\n",
       "      <td>0</td>\n",
       "      <td>...</td>\n",
       "      <td>1</td>\n",
       "      <td>0</td>\n",
       "      <td>0</td>\n",
       "      <td>0</td>\n",
       "      <td>0</td>\n",
       "      <td>0</td>\n",
       "      <td>0</td>\n",
       "      <td>0</td>\n",
       "      <td>1</td>\n",
       "      <td>1</td>\n",
       "    </tr>\n",
       "  </tbody>\n",
       "</table>\n",
       "<p>5 rows × 38 columns</p>\n",
       "</div>"
      ],
      "text/plain": [
       "   duree_emprunt_mois  montant  annees_presence_logement   age  \\\n",
       "0                   6     1169                       4.0  67.0   \n",
       "1                  48     5951                       2.0  22.0   \n",
       "2                  12     2096                       3.0  49.0   \n",
       "3                  42     7882                       4.0  45.0   \n",
       "4                  24     4870                       4.0  53.0   \n",
       "\n",
       "   nbre_emprunts_actuels  dependants   revenufinal  compte_courant_< 0 Euro  \\\n",
       "0                      2           1   8135.110140                        1   \n",
       "1                      1           1  19334.307686                        0   \n",
       "2                      1           2   4864.954258                        0   \n",
       "3                      1           2  22152.947349                        1   \n",
       "4                      2           2  23900.704144                        1   \n",
       "\n",
       "   compte_courant_> 200 Euro  compte_courant_inconnu  ...  autre_credit_aucun  \\\n",
       "0                          0                       0  ...                   1   \n",
       "1                          0                       0  ...                   1   \n",
       "2                          0                       1  ...                   1   \n",
       "3                          0                       0  ...                   1   \n",
       "4                          0                       0  ...                   1   \n",
       "\n",
       "   autre_credit_banque  autre_credit_magasin  logement_locataire  \\\n",
       "0                    0                     0                   0   \n",
       "1                    0                     0                   0   \n",
       "2                    0                     0                   0   \n",
       "3                    0                     0                   0   \n",
       "4                    0                     0                   0   \n",
       "\n",
       "   logement_proprietaire  logement_qualifie  job_management  job_non_qualifie  \\\n",
       "0                      1                  0               0                 0   \n",
       "1                      1                  0               0                 0   \n",
       "2                      1                  0               0                 1   \n",
       "3                      0                  0               0                 0   \n",
       "4                      0                  0               0                 0   \n",
       "\n",
       "   job_qualifie  defaillant_oui  \n",
       "0             1               0  \n",
       "1             1               1  \n",
       "2             0               0  \n",
       "3             1               0  \n",
       "4             1               1  \n",
       "\n",
       "[5 rows x 38 columns]"
      ]
     },
     "execution_count": 139,
     "metadata": {},
     "output_type": "execute_result"
    }
   ],
   "source": [
    "categorial = ['compte_courant', 'historique_credit', 'raison', 'compte_epargne',\n",
    "       'duree_emploi', 'autre_credit', 'logement', 'job', 'defaillant']\n",
    "df_final = pd.get_dummies(df_final, columns=categorial, drop_first=True)\n",
    "df_final.head()"
   ]
  },
  {
   "cell_type": "code",
   "execution_count": 276,
   "metadata": {},
   "outputs": [
    {
     "name": "stdout",
     "output_type": "stream",
     "text": [
      "<class 'pandas.core.frame.DataFrame'>\n",
      "RangeIndex: 1021 entries, 0 to 1020\n",
      "Data columns (total 38 columns):\n",
      " #   Column                          Non-Null Count  Dtype  \n",
      "---  ------                          --------------  -----  \n",
      " 0   duree_emprunt_mois              1021 non-null   int64  \n",
      " 1   montant                         1021 non-null   int64  \n",
      " 2   annees_presence_logement        1021 non-null   float64\n",
      " 3   age                             1021 non-null   float64\n",
      " 4   nbre_emprunts_actuels           1021 non-null   int64  \n",
      " 5   dependants                      1021 non-null   int64  \n",
      " 6   revenufinal                     1021 non-null   float64\n",
      " 7   compte_courant_< 0 Euro         1021 non-null   uint8  \n",
      " 8   compte_courant_> 200 Euro       1021 non-null   uint8  \n",
      " 9   compte_courant_inconnu          1021 non-null   uint8  \n",
      " 10  historique_credit_critique      1021 non-null   uint8  \n",
      " 11  historique_credit_parfait       1021 non-null   uint8  \n",
      " 12  historique_credit_pauvre        1021 non-null   uint8  \n",
      " 13  historique_credit_tres bon      1021 non-null   uint8  \n",
      " 14  raison_auto                     1021 non-null   uint8  \n",
      " 15  raison_auto0                    1021 non-null   uint8  \n",
      " 16  raison_business                 1021 non-null   uint8  \n",
      " 17  raison_education                1021 non-null   uint8  \n",
      " 18  raison_renonvations             1021 non-null   uint8  \n",
      " 19  compte_epargne_500 - 1000 Euro  1021 non-null   uint8  \n",
      " 20  compte_epargne_< 100 Euro       1021 non-null   uint8  \n",
      " 21  compte_epargne_> 1000 Euro      1021 non-null   uint8  \n",
      " 22  compte_epargne_inconnu          1021 non-null   uint8  \n",
      " 23  duree_emploi_4 - 7 annees       1021 non-null   uint8  \n",
      " 24  duree_emploi_< 1 annee          1021 non-null   uint8  \n",
      " 25  duree_emploi_> 7 annees         1021 non-null   uint8  \n",
      " 26  duree_emploi_> 7 annes          1021 non-null   uint8  \n",
      " 27  duree_emploi_chomeur            1021 non-null   uint8  \n",
      " 28  autre_credit_aucun              1021 non-null   uint8  \n",
      " 29  autre_credit_banque             1021 non-null   uint8  \n",
      " 30  autre_credit_magasin            1021 non-null   uint8  \n",
      " 31  logement_locataire              1021 non-null   uint8  \n",
      " 32  logement_proprietaire           1021 non-null   uint8  \n",
      " 33  logement_qualifie               1021 non-null   uint8  \n",
      " 34  job_management                  1021 non-null   uint8  \n",
      " 35  job_non_qualifie                1021 non-null   uint8  \n",
      " 36  job_qualifie                    1021 non-null   uint8  \n",
      " 37  defaillant_oui                  1021 non-null   uint8  \n",
      "dtypes: float64(3), int64(4), uint8(31)\n",
      "memory usage: 86.9 KB\n"
     ]
    }
   ],
   "source": [
    "df_final.info()"
   ]
  },
  {
   "cell_type": "markdown",
   "metadata": {},
   "source": [
    "### Diviser le jeu de données et la mise à l'échelle"
   ]
  },
  {
   "cell_type": "code",
   "execution_count": 144,
   "metadata": {},
   "outputs": [],
   "source": [
    "from sklearn.model_selection import train_test_split\n",
    "\n",
    "# Suppression du label Fidelite dans X et transformation en array avec values\n",
    "X = df_final.drop(['defaillant_oui'],axis=1).values\n",
    "\n",
    "# Label Fidelite dans y \n",
    "y = df_final['defaillant_oui'].values"
   ]
  },
  {
   "cell_type": "code",
   "execution_count": 145,
   "metadata": {},
   "outputs": [],
   "source": [
    "# Split it train set et test set\n",
    "\n",
    "X_train, X_test, y_train, y_test = train_test_split(X, y, test_size=0.3, random_state=99)"
   ]
  },
  {
   "cell_type": "code",
   "execution_count": 146,
   "metadata": {},
   "outputs": [],
   "source": [
    "# Normalisation des data indispensable avec les réseaux de neurones\n",
    "from sklearn.preprocessing import StandardScaler\n",
    "\n",
    "sc = StandardScaler()\n",
    "# fit transform sur le train set et transform uniquement sur test set\n",
    "X_train = sc.fit_transform(X_train)\n",
    "X_test = sc.transform(X_test)"
   ]
  },
  {
   "cell_type": "code",
   "execution_count": 147,
   "metadata": {},
   "outputs": [
    {
     "data": {
      "text/html": [
       "<div>\n",
       "<style scoped>\n",
       "    .dataframe tbody tr th:only-of-type {\n",
       "        vertical-align: middle;\n",
       "    }\n",
       "\n",
       "    .dataframe tbody tr th {\n",
       "        vertical-align: top;\n",
       "    }\n",
       "\n",
       "    .dataframe thead th {\n",
       "        text-align: right;\n",
       "    }\n",
       "</style>\n",
       "<table border=\"1\" class=\"dataframe\">\n",
       "  <thead>\n",
       "    <tr style=\"text-align: right;\">\n",
       "      <th></th>\n",
       "      <th>0</th>\n",
       "      <th>1</th>\n",
       "      <th>2</th>\n",
       "      <th>3</th>\n",
       "      <th>4</th>\n",
       "      <th>5</th>\n",
       "      <th>6</th>\n",
       "      <th>7</th>\n",
       "      <th>8</th>\n",
       "      <th>9</th>\n",
       "      <th>...</th>\n",
       "      <th>27</th>\n",
       "      <th>28</th>\n",
       "      <th>29</th>\n",
       "      <th>30</th>\n",
       "      <th>31</th>\n",
       "      <th>32</th>\n",
       "      <th>33</th>\n",
       "      <th>34</th>\n",
       "      <th>35</th>\n",
       "      <th>36</th>\n",
       "    </tr>\n",
       "  </thead>\n",
       "  <tbody>\n",
       "    <tr>\n",
       "      <th>0</th>\n",
       "      <td>0.032824</td>\n",
       "      <td>-0.327273</td>\n",
       "      <td>1.055942</td>\n",
       "      <td>-1.060424</td>\n",
       "      <td>-0.718823</td>\n",
       "      <td>-0.419853</td>\n",
       "      <td>0.378623</td>\n",
       "      <td>-0.634626</td>\n",
       "      <td>-0.246822</td>\n",
       "      <td>1.252336</td>\n",
       "      <td>...</td>\n",
       "      <td>-0.271448</td>\n",
       "      <td>0.46291</td>\n",
       "      <td>-0.389375</td>\n",
       "      <td>-0.213045</td>\n",
       "      <td>-0.462910</td>\n",
       "      <td>0.628117</td>\n",
       "      <td>-0.03745</td>\n",
       "      <td>-0.415227</td>\n",
       "      <td>-0.485071</td>\n",
       "      <td>0.75219</td>\n",
       "    </tr>\n",
       "    <tr>\n",
       "      <th>1</th>\n",
       "      <td>-0.715147</td>\n",
       "      <td>-0.483202</td>\n",
       "      <td>-1.633508</td>\n",
       "      <td>-1.146492</td>\n",
       "      <td>-0.718823</td>\n",
       "      <td>-0.419853</td>\n",
       "      <td>-0.251987</td>\n",
       "      <td>1.575731</td>\n",
       "      <td>-0.246822</td>\n",
       "      <td>-0.798508</td>\n",
       "      <td>...</td>\n",
       "      <td>-0.271448</td>\n",
       "      <td>0.46291</td>\n",
       "      <td>-0.389375</td>\n",
       "      <td>-0.213045</td>\n",
       "      <td>2.160247</td>\n",
       "      <td>-1.592060</td>\n",
       "      <td>-0.03745</td>\n",
       "      <td>-0.415227</td>\n",
       "      <td>-0.485071</td>\n",
       "      <td>0.75219</td>\n",
       "    </tr>\n",
       "    <tr>\n",
       "      <th>2</th>\n",
       "      <td>0.282148</td>\n",
       "      <td>-0.896959</td>\n",
       "      <td>1.055942</td>\n",
       "      <td>1.607693</td>\n",
       "      <td>0.991976</td>\n",
       "      <td>-0.419853</td>\n",
       "      <td>-0.737474</td>\n",
       "      <td>-0.634626</td>\n",
       "      <td>-0.246822</td>\n",
       "      <td>1.252336</td>\n",
       "      <td>...</td>\n",
       "      <td>-0.271448</td>\n",
       "      <td>0.46291</td>\n",
       "      <td>-0.389375</td>\n",
       "      <td>-0.213045</td>\n",
       "      <td>-0.462910</td>\n",
       "      <td>0.628117</td>\n",
       "      <td>-0.03745</td>\n",
       "      <td>-0.415227</td>\n",
       "      <td>-0.485071</td>\n",
       "      <td>0.75219</td>\n",
       "    </tr>\n",
       "    <tr>\n",
       "      <th>3</th>\n",
       "      <td>0.282148</td>\n",
       "      <td>0.589809</td>\n",
       "      <td>0.159459</td>\n",
       "      <td>-0.371878</td>\n",
       "      <td>-0.718823</td>\n",
       "      <td>-0.419853</td>\n",
       "      <td>-0.078969</td>\n",
       "      <td>1.575731</td>\n",
       "      <td>-0.246822</td>\n",
       "      <td>-0.798508</td>\n",
       "      <td>...</td>\n",
       "      <td>-0.271448</td>\n",
       "      <td>0.46291</td>\n",
       "      <td>-0.389375</td>\n",
       "      <td>-0.213045</td>\n",
       "      <td>-0.462910</td>\n",
       "      <td>0.628117</td>\n",
       "      <td>-0.03745</td>\n",
       "      <td>-0.415227</td>\n",
       "      <td>-0.485071</td>\n",
       "      <td>0.75219</td>\n",
       "    </tr>\n",
       "    <tr>\n",
       "      <th>4</th>\n",
       "      <td>-0.964470</td>\n",
       "      <td>-0.141971</td>\n",
       "      <td>-0.737025</td>\n",
       "      <td>0.058464</td>\n",
       "      <td>0.991976</td>\n",
       "      <td>2.381784</td>\n",
       "      <td>-0.480475</td>\n",
       "      <td>1.575731</td>\n",
       "      <td>-0.246822</td>\n",
       "      <td>-0.798508</td>\n",
       "      <td>...</td>\n",
       "      <td>-0.271448</td>\n",
       "      <td>0.46291</td>\n",
       "      <td>-0.389375</td>\n",
       "      <td>-0.213045</td>\n",
       "      <td>2.160247</td>\n",
       "      <td>-1.592060</td>\n",
       "      <td>-0.03745</td>\n",
       "      <td>-0.415227</td>\n",
       "      <td>-0.485071</td>\n",
       "      <td>0.75219</td>\n",
       "    </tr>\n",
       "  </tbody>\n",
       "</table>\n",
       "<p>5 rows × 37 columns</p>\n",
       "</div>"
      ],
      "text/plain": [
       "         0         1         2         3         4         5         6   \\\n",
       "0  0.032824 -0.327273  1.055942 -1.060424 -0.718823 -0.419853  0.378623   \n",
       "1 -0.715147 -0.483202 -1.633508 -1.146492 -0.718823 -0.419853 -0.251987   \n",
       "2  0.282148 -0.896959  1.055942  1.607693  0.991976 -0.419853 -0.737474   \n",
       "3  0.282148  0.589809  0.159459 -0.371878 -0.718823 -0.419853 -0.078969   \n",
       "4 -0.964470 -0.141971 -0.737025  0.058464  0.991976  2.381784 -0.480475   \n",
       "\n",
       "         7         8         9   ...        27       28        29        30  \\\n",
       "0 -0.634626 -0.246822  1.252336  ... -0.271448  0.46291 -0.389375 -0.213045   \n",
       "1  1.575731 -0.246822 -0.798508  ... -0.271448  0.46291 -0.389375 -0.213045   \n",
       "2 -0.634626 -0.246822  1.252336  ... -0.271448  0.46291 -0.389375 -0.213045   \n",
       "3  1.575731 -0.246822 -0.798508  ... -0.271448  0.46291 -0.389375 -0.213045   \n",
       "4  1.575731 -0.246822 -0.798508  ... -0.271448  0.46291 -0.389375 -0.213045   \n",
       "\n",
       "         31        32       33        34        35       36  \n",
       "0 -0.462910  0.628117 -0.03745 -0.415227 -0.485071  0.75219  \n",
       "1  2.160247 -1.592060 -0.03745 -0.415227 -0.485071  0.75219  \n",
       "2 -0.462910  0.628117 -0.03745 -0.415227 -0.485071  0.75219  \n",
       "3 -0.462910  0.628117 -0.03745 -0.415227 -0.485071  0.75219  \n",
       "4  2.160247 -1.592060 -0.03745 -0.415227 -0.485071  0.75219  \n",
       "\n",
       "[5 rows x 37 columns]"
      ]
     },
     "execution_count": 147,
     "metadata": {},
     "output_type": "execute_result"
    }
   ],
   "source": [
    "# transformation en data frame de X_train\n",
    "df_train = pd.DataFrame(X_train)\n",
    "df_train.head()"
   ]
  },
  {
   "cell_type": "code",
   "execution_count": 148,
   "metadata": {
    "scrolled": true
   },
   "outputs": [
    {
     "data": {
      "text/html": [
       "<div>\n",
       "<style scoped>\n",
       "    .dataframe tbody tr th:only-of-type {\n",
       "        vertical-align: middle;\n",
       "    }\n",
       "\n",
       "    .dataframe tbody tr th {\n",
       "        vertical-align: top;\n",
       "    }\n",
       "\n",
       "    .dataframe thead th {\n",
       "        text-align: right;\n",
       "    }\n",
       "</style>\n",
       "<table border=\"1\" class=\"dataframe\">\n",
       "  <thead>\n",
       "    <tr style=\"text-align: right;\">\n",
       "      <th></th>\n",
       "      <th>0</th>\n",
       "      <th>1</th>\n",
       "      <th>2</th>\n",
       "      <th>3</th>\n",
       "      <th>4</th>\n",
       "      <th>5</th>\n",
       "      <th>6</th>\n",
       "      <th>7</th>\n",
       "      <th>8</th>\n",
       "      <th>9</th>\n",
       "      <th>...</th>\n",
       "      <th>27</th>\n",
       "      <th>28</th>\n",
       "      <th>29</th>\n",
       "      <th>30</th>\n",
       "      <th>31</th>\n",
       "      <th>32</th>\n",
       "      <th>33</th>\n",
       "      <th>34</th>\n",
       "      <th>35</th>\n",
       "      <th>36</th>\n",
       "    </tr>\n",
       "  </thead>\n",
       "  <tbody>\n",
       "    <tr>\n",
       "      <th>count</th>\n",
       "      <td>7.140000e+02</td>\n",
       "      <td>7.140000e+02</td>\n",
       "      <td>7.140000e+02</td>\n",
       "      <td>7.140000e+02</td>\n",
       "      <td>7.140000e+02</td>\n",
       "      <td>7.140000e+02</td>\n",
       "      <td>7.140000e+02</td>\n",
       "      <td>7.140000e+02</td>\n",
       "      <td>7.140000e+02</td>\n",
       "      <td>7.140000e+02</td>\n",
       "      <td>...</td>\n",
       "      <td>7.140000e+02</td>\n",
       "      <td>7.140000e+02</td>\n",
       "      <td>7.140000e+02</td>\n",
       "      <td>7.140000e+02</td>\n",
       "      <td>7.140000e+02</td>\n",
       "      <td>7.140000e+02</td>\n",
       "      <td>7.140000e+02</td>\n",
       "      <td>7.140000e+02</td>\n",
       "      <td>7.140000e+02</td>\n",
       "      <td>7.140000e+02</td>\n",
       "    </tr>\n",
       "    <tr>\n",
       "      <th>mean</th>\n",
       "      <td>-5.963173e-17</td>\n",
       "      <td>-2.503444e-17</td>\n",
       "      <td>-1.792839e-16</td>\n",
       "      <td>2.256210e-16</td>\n",
       "      <td>2.064953e-16</td>\n",
       "      <td>3.518816e-16</td>\n",
       "      <td>-9.987342e-16</td>\n",
       "      <td>-7.899066e-17</td>\n",
       "      <td>-1.749301e-17</td>\n",
       "      <td>-7.183796e-17</td>\n",
       "      <td>...</td>\n",
       "      <td>1.752411e-16</td>\n",
       "      <td>1.306145e-16</td>\n",
       "      <td>-3.047671e-17</td>\n",
       "      <td>3.927764e-16</td>\n",
       "      <td>-1.104003e-17</td>\n",
       "      <td>-1.371452e-16</td>\n",
       "      <td>-3.312399e-16</td>\n",
       "      <td>-9.811635e-17</td>\n",
       "      <td>-1.811498e-17</td>\n",
       "      <td>1.691768e-16</td>\n",
       "    </tr>\n",
       "    <tr>\n",
       "      <th>std</th>\n",
       "      <td>1.000701e+00</td>\n",
       "      <td>1.000701e+00</td>\n",
       "      <td>1.000701e+00</td>\n",
       "      <td>1.000701e+00</td>\n",
       "      <td>1.000701e+00</td>\n",
       "      <td>1.000701e+00</td>\n",
       "      <td>1.000701e+00</td>\n",
       "      <td>1.000701e+00</td>\n",
       "      <td>1.000701e+00</td>\n",
       "      <td>1.000701e+00</td>\n",
       "      <td>...</td>\n",
       "      <td>1.000701e+00</td>\n",
       "      <td>1.000701e+00</td>\n",
       "      <td>1.000701e+00</td>\n",
       "      <td>1.000701e+00</td>\n",
       "      <td>1.000701e+00</td>\n",
       "      <td>1.000701e+00</td>\n",
       "      <td>1.000701e+00</td>\n",
       "      <td>1.000701e+00</td>\n",
       "      <td>1.000701e+00</td>\n",
       "      <td>1.000701e+00</td>\n",
       "    </tr>\n",
       "    <tr>\n",
       "      <th>min</th>\n",
       "      <td>-1.380010e+00</td>\n",
       "      <td>-1.066305e+00</td>\n",
       "      <td>-1.633508e+00</td>\n",
       "      <td>-1.404697e+00</td>\n",
       "      <td>-7.188232e-01</td>\n",
       "      <td>-4.198533e-01</td>\n",
       "      <td>-1.060173e+00</td>\n",
       "      <td>-6.346263e-01</td>\n",
       "      <td>-2.468223e-01</td>\n",
       "      <td>-7.985078e-01</td>\n",
       "      <td>...</td>\n",
       "      <td>-2.714484e-01</td>\n",
       "      <td>-2.160247e+00</td>\n",
       "      <td>-3.893750e-01</td>\n",
       "      <td>-2.130446e-01</td>\n",
       "      <td>-4.629100e-01</td>\n",
       "      <td>-1.592060e+00</td>\n",
       "      <td>-3.745029e-02</td>\n",
       "      <td>-4.152274e-01</td>\n",
       "      <td>-4.850713e-01</td>\n",
       "      <td>-1.329452e+00</td>\n",
       "    </tr>\n",
       "    <tr>\n",
       "      <th>25%</th>\n",
       "      <td>-7.151467e-01</td>\n",
       "      <td>-6.664190e-01</td>\n",
       "      <td>-7.370249e-01</td>\n",
       "      <td>-8.022191e-01</td>\n",
       "      <td>-7.188232e-01</td>\n",
       "      <td>-4.198533e-01</td>\n",
       "      <td>-6.382143e-01</td>\n",
       "      <td>-6.346263e-01</td>\n",
       "      <td>-2.468223e-01</td>\n",
       "      <td>-7.985078e-01</td>\n",
       "      <td>...</td>\n",
       "      <td>-2.714484e-01</td>\n",
       "      <td>4.629100e-01</td>\n",
       "      <td>-3.893750e-01</td>\n",
       "      <td>-2.130446e-01</td>\n",
       "      <td>-4.629100e-01</td>\n",
       "      <td>-1.592060e+00</td>\n",
       "      <td>-3.745029e-02</td>\n",
       "      <td>-4.152274e-01</td>\n",
       "      <td>-4.850713e-01</td>\n",
       "      <td>-1.329452e+00</td>\n",
       "    </tr>\n",
       "    <tr>\n",
       "      <th>50%</th>\n",
       "      <td>-2.164995e-01</td>\n",
       "      <td>-3.296299e-01</td>\n",
       "      <td>1.594585e-01</td>\n",
       "      <td>-2.427752e-01</td>\n",
       "      <td>-7.188232e-01</td>\n",
       "      <td>-4.198533e-01</td>\n",
       "      <td>-3.241650e-01</td>\n",
       "      <td>-6.346263e-01</td>\n",
       "      <td>-2.468223e-01</td>\n",
       "      <td>-7.985078e-01</td>\n",
       "      <td>...</td>\n",
       "      <td>-2.714484e-01</td>\n",
       "      <td>4.629100e-01</td>\n",
       "      <td>-3.893750e-01</td>\n",
       "      <td>-2.130446e-01</td>\n",
       "      <td>-4.629100e-01</td>\n",
       "      <td>6.281172e-01</td>\n",
       "      <td>-3.745029e-02</td>\n",
       "      <td>-4.152274e-01</td>\n",
       "      <td>-4.850713e-01</td>\n",
       "      <td>7.521898e-01</td>\n",
       "    </tr>\n",
       "    <tr>\n",
       "      <th>75%</th>\n",
       "      <td>2.821477e-01</td>\n",
       "      <td>2.803076e-01</td>\n",
       "      <td>1.055942e+00</td>\n",
       "      <td>4.888052e-01</td>\n",
       "      <td>9.919761e-01</td>\n",
       "      <td>-4.198533e-01</td>\n",
       "      <td>2.884924e-01</td>\n",
       "      <td>1.575731e+00</td>\n",
       "      <td>-2.468223e-01</td>\n",
       "      <td>1.252336e+00</td>\n",
       "      <td>...</td>\n",
       "      <td>-2.714484e-01</td>\n",
       "      <td>4.629100e-01</td>\n",
       "      <td>-3.893750e-01</td>\n",
       "      <td>-2.130446e-01</td>\n",
       "      <td>-4.629100e-01</td>\n",
       "      <td>6.281172e-01</td>\n",
       "      <td>-3.745029e-02</td>\n",
       "      <td>-4.152274e-01</td>\n",
       "      <td>-4.850713e-01</td>\n",
       "      <td>7.521898e-01</td>\n",
       "    </tr>\n",
       "    <tr>\n",
       "      <th>max</th>\n",
       "      <td>4.271325e+00</td>\n",
       "      <td>5.524065e+00</td>\n",
       "      <td>1.055942e+00</td>\n",
       "      <td>3.415127e+00</td>\n",
       "      <td>4.413575e+00</td>\n",
       "      <td>2.381784e+00</td>\n",
       "      <td>5.765948e+00</td>\n",
       "      <td>1.575731e+00</td>\n",
       "      <td>4.051498e+00</td>\n",
       "      <td>1.252336e+00</td>\n",
       "      <td>...</td>\n",
       "      <td>3.683942e+00</td>\n",
       "      <td>4.629100e-01</td>\n",
       "      <td>2.568218e+00</td>\n",
       "      <td>4.693853e+00</td>\n",
       "      <td>2.160247e+00</td>\n",
       "      <td>6.281172e-01</td>\n",
       "      <td>2.670206e+01</td>\n",
       "      <td>2.408319e+00</td>\n",
       "      <td>2.061553e+00</td>\n",
       "      <td>7.521898e-01</td>\n",
       "    </tr>\n",
       "  </tbody>\n",
       "</table>\n",
       "<p>8 rows × 37 columns</p>\n",
       "</div>"
      ],
      "text/plain": [
       "                 0             1             2             3             4   \\\n",
       "count  7.140000e+02  7.140000e+02  7.140000e+02  7.140000e+02  7.140000e+02   \n",
       "mean  -5.963173e-17 -2.503444e-17 -1.792839e-16  2.256210e-16  2.064953e-16   \n",
       "std    1.000701e+00  1.000701e+00  1.000701e+00  1.000701e+00  1.000701e+00   \n",
       "min   -1.380010e+00 -1.066305e+00 -1.633508e+00 -1.404697e+00 -7.188232e-01   \n",
       "25%   -7.151467e-01 -6.664190e-01 -7.370249e-01 -8.022191e-01 -7.188232e-01   \n",
       "50%   -2.164995e-01 -3.296299e-01  1.594585e-01 -2.427752e-01 -7.188232e-01   \n",
       "75%    2.821477e-01  2.803076e-01  1.055942e+00  4.888052e-01  9.919761e-01   \n",
       "max    4.271325e+00  5.524065e+00  1.055942e+00  3.415127e+00  4.413575e+00   \n",
       "\n",
       "                 5             6             7             8             9   \\\n",
       "count  7.140000e+02  7.140000e+02  7.140000e+02  7.140000e+02  7.140000e+02   \n",
       "mean   3.518816e-16 -9.987342e-16 -7.899066e-17 -1.749301e-17 -7.183796e-17   \n",
       "std    1.000701e+00  1.000701e+00  1.000701e+00  1.000701e+00  1.000701e+00   \n",
       "min   -4.198533e-01 -1.060173e+00 -6.346263e-01 -2.468223e-01 -7.985078e-01   \n",
       "25%   -4.198533e-01 -6.382143e-01 -6.346263e-01 -2.468223e-01 -7.985078e-01   \n",
       "50%   -4.198533e-01 -3.241650e-01 -6.346263e-01 -2.468223e-01 -7.985078e-01   \n",
       "75%   -4.198533e-01  2.884924e-01  1.575731e+00 -2.468223e-01  1.252336e+00   \n",
       "max    2.381784e+00  5.765948e+00  1.575731e+00  4.051498e+00  1.252336e+00   \n",
       "\n",
       "       ...            27            28            29            30  \\\n",
       "count  ...  7.140000e+02  7.140000e+02  7.140000e+02  7.140000e+02   \n",
       "mean   ...  1.752411e-16  1.306145e-16 -3.047671e-17  3.927764e-16   \n",
       "std    ...  1.000701e+00  1.000701e+00  1.000701e+00  1.000701e+00   \n",
       "min    ... -2.714484e-01 -2.160247e+00 -3.893750e-01 -2.130446e-01   \n",
       "25%    ... -2.714484e-01  4.629100e-01 -3.893750e-01 -2.130446e-01   \n",
       "50%    ... -2.714484e-01  4.629100e-01 -3.893750e-01 -2.130446e-01   \n",
       "75%    ... -2.714484e-01  4.629100e-01 -3.893750e-01 -2.130446e-01   \n",
       "max    ...  3.683942e+00  4.629100e-01  2.568218e+00  4.693853e+00   \n",
       "\n",
       "                 31            32            33            34            35  \\\n",
       "count  7.140000e+02  7.140000e+02  7.140000e+02  7.140000e+02  7.140000e+02   \n",
       "mean  -1.104003e-17 -1.371452e-16 -3.312399e-16 -9.811635e-17 -1.811498e-17   \n",
       "std    1.000701e+00  1.000701e+00  1.000701e+00  1.000701e+00  1.000701e+00   \n",
       "min   -4.629100e-01 -1.592060e+00 -3.745029e-02 -4.152274e-01 -4.850713e-01   \n",
       "25%   -4.629100e-01 -1.592060e+00 -3.745029e-02 -4.152274e-01 -4.850713e-01   \n",
       "50%   -4.629100e-01  6.281172e-01 -3.745029e-02 -4.152274e-01 -4.850713e-01   \n",
       "75%   -4.629100e-01  6.281172e-01 -3.745029e-02 -4.152274e-01 -4.850713e-01   \n",
       "max    2.160247e+00  6.281172e-01  2.670206e+01  2.408319e+00  2.061553e+00   \n",
       "\n",
       "                 36  \n",
       "count  7.140000e+02  \n",
       "mean   1.691768e-16  \n",
       "std    1.000701e+00  \n",
       "min   -1.329452e+00  \n",
       "25%   -1.329452e+00  \n",
       "50%    7.521898e-01  \n",
       "75%    7.521898e-01  \n",
       "max    7.521898e-01  \n",
       "\n",
       "[8 rows x 37 columns]"
      ]
     },
     "execution_count": 148,
     "metadata": {},
     "output_type": "execute_result"
    }
   ],
   "source": [
    "df_train.describe()"
   ]
  },
  {
   "cell_type": "markdown",
   "metadata": {},
   "source": [
    "# 1- Modélisation ANN simple : Défaillance du client fonction des features :"
   ]
  },
  {
   "cell_type": "code",
   "execution_count": 149,
   "metadata": {},
   "outputs": [
    {
     "name": "stderr",
     "output_type": "stream",
     "text": [
      "D:\\ProgramData\\Anaconda3\\lib\\site-packages\\tensorflow\\python\\framework\\dtypes.py:526: FutureWarning: Passing (type, 1) or '1type' as a synonym of type is deprecated; in a future version of numpy, it will be understood as (type, (1,)) / '(1,)type'.\n",
      "  _np_qint8 = np.dtype([(\"qint8\", np.int8, 1)])\n",
      "D:\\ProgramData\\Anaconda3\\lib\\site-packages\\tensorflow\\python\\framework\\dtypes.py:527: FutureWarning: Passing (type, 1) or '1type' as a synonym of type is deprecated; in a future version of numpy, it will be understood as (type, (1,)) / '(1,)type'.\n",
      "  _np_quint8 = np.dtype([(\"quint8\", np.uint8, 1)])\n",
      "D:\\ProgramData\\Anaconda3\\lib\\site-packages\\tensorflow\\python\\framework\\dtypes.py:528: FutureWarning: Passing (type, 1) or '1type' as a synonym of type is deprecated; in a future version of numpy, it will be understood as (type, (1,)) / '(1,)type'.\n",
      "  _np_qint16 = np.dtype([(\"qint16\", np.int16, 1)])\n",
      "D:\\ProgramData\\Anaconda3\\lib\\site-packages\\tensorflow\\python\\framework\\dtypes.py:529: FutureWarning: Passing (type, 1) or '1type' as a synonym of type is deprecated; in a future version of numpy, it will be understood as (type, (1,)) / '(1,)type'.\n",
      "  _np_quint16 = np.dtype([(\"quint16\", np.uint16, 1)])\n",
      "D:\\ProgramData\\Anaconda3\\lib\\site-packages\\tensorflow\\python\\framework\\dtypes.py:530: FutureWarning: Passing (type, 1) or '1type' as a synonym of type is deprecated; in a future version of numpy, it will be understood as (type, (1,)) / '(1,)type'.\n",
      "  _np_qint32 = np.dtype([(\"qint32\", np.int32, 1)])\n",
      "D:\\ProgramData\\Anaconda3\\lib\\site-packages\\tensorflow\\python\\framework\\dtypes.py:535: FutureWarning: Passing (type, 1) or '1type' as a synonym of type is deprecated; in a future version of numpy, it will be understood as (type, (1,)) / '(1,)type'.\n",
      "  np_resource = np.dtype([(\"resource\", np.ubyte, 1)])\n"
     ]
    }
   ],
   "source": [
    "# import modules Keras\n",
    "import tensorflow.keras\n",
    "from tensorflow.keras.models import Sequential\n",
    "from tensorflow.keras.layers import Dense"
   ]
  },
  {
   "cell_type": "code",
   "execution_count": 152,
   "metadata": {},
   "outputs": [],
   "source": [
    "# initialisation modèle\n",
    "model = Sequential()\n",
    "# premiere couche avec 22 neurones, et input_dim = 11, car 11 variables explicatives en entrée\n",
    "model.add(Dense(64, kernel_initializer = \"uniform\", activation = \"relu\", input_dim=37))\n",
    "# couche de sortie avec 1 neurone puisque classification binaire\n",
    "model.add(Dense(1, kernel_initializer = \"uniform\", activation = \"sigmoid\"))\n",
    "\n",
    "# compilation modèle avec optimiser utilisé et metrique\n",
    "model.compile(optimizer= \"adam\",loss = \"binary_crossentropy\",metrics = [\"accuracy\"])"
   ]
  },
  {
   "cell_type": "code",
   "execution_count": 153,
   "metadata": {},
   "outputs": [
    {
     "name": "stdout",
     "output_type": "stream",
     "text": [
      "_________________________________________________________________\n",
      "Layer (type)                 Output Shape              Param #   \n",
      "=================================================================\n",
      "dense_2 (Dense)              (None, 64)                2432      \n",
      "_________________________________________________________________\n",
      "dense_3 (Dense)              (None, 1)                 65        \n",
      "=================================================================\n",
      "Total params: 2,497\n",
      "Trainable params: 2,497\n",
      "Non-trainable params: 0\n",
      "_________________________________________________________________\n"
     ]
    }
   ],
   "source": [
    "# Visu Model Summary avec ses paramètres\n",
    "model.summary()"
   ]
  },
  {
   "cell_type": "code",
   "execution_count": 154,
   "metadata": {
    "scrolled": true
   },
   "outputs": [
    {
     "name": "stdout",
     "output_type": "stream",
     "text": [
      "Train on 714 samples, validate on 307 samples\n",
      "WARNING:tensorflow:From D:\\ProgramData\\Anaconda3\\lib\\site-packages\\tensorflow\\python\\ops\\math_ops.py:3066: to_int32 (from tensorflow.python.ops.math_ops) is deprecated and will be removed in a future version.\n",
      "Instructions for updating:\n",
      "Use tf.cast instead.\n",
      "Epoch 1/25\n",
      "714/714 [==============================] - 1s 2ms/sample - loss: 0.6762 - acc: 0.7059 - val_loss: 0.6543 - val_acc: 0.7166\n",
      "Epoch 2/25\n",
      "714/714 [==============================] - 0s 42us/sample - loss: 0.6271 - acc: 0.7297 - val_loss: 0.6020 - val_acc: 0.7264\n",
      "Epoch 3/25\n",
      "714/714 [==============================] - 0s 45us/sample - loss: 0.5669 - acc: 0.7423 - val_loss: 0.5522 - val_acc: 0.7199\n",
      "Epoch 4/25\n",
      "714/714 [==============================] - 0s 46us/sample - loss: 0.5190 - acc: 0.7661 - val_loss: 0.5225 - val_acc: 0.7296\n",
      "Epoch 5/25\n",
      "714/714 [==============================] - 0s 45us/sample - loss: 0.4894 - acc: 0.7787 - val_loss: 0.5091 - val_acc: 0.7329\n",
      "Epoch 6/25\n",
      "714/714 [==============================] - 0s 45us/sample - loss: 0.4731 - acc: 0.7843 - val_loss: 0.5032 - val_acc: 0.7492\n",
      "Epoch 7/25\n",
      "714/714 [==============================] - 0s 44us/sample - loss: 0.4620 - acc: 0.7857 - val_loss: 0.5015 - val_acc: 0.7492\n",
      "Epoch 8/25\n",
      "714/714 [==============================] - 0s 59us/sample - loss: 0.4536 - acc: 0.7885 - val_loss: 0.4999 - val_acc: 0.7557\n",
      "Epoch 9/25\n",
      "714/714 [==============================] - 0s 43us/sample - loss: 0.4470 - acc: 0.7885 - val_loss: 0.5015 - val_acc: 0.7492\n",
      "Epoch 10/25\n",
      "714/714 [==============================] - 0s 37us/sample - loss: 0.4407 - acc: 0.7913 - val_loss: 0.5024 - val_acc: 0.7492\n",
      "Epoch 11/25\n",
      "714/714 [==============================] - 0s 38us/sample - loss: 0.4356 - acc: 0.7927 - val_loss: 0.4987 - val_acc: 0.7459\n",
      "Epoch 12/25\n",
      "714/714 [==============================] - 0s 39us/sample - loss: 0.4300 - acc: 0.7983 - val_loss: 0.4997 - val_acc: 0.7459\n",
      "Epoch 13/25\n",
      "714/714 [==============================] - 0s 36us/sample - loss: 0.4249 - acc: 0.8011 - val_loss: 0.5010 - val_acc: 0.7459\n",
      "Epoch 14/25\n",
      "714/714 [==============================] - 0s 36us/sample - loss: 0.4203 - acc: 0.8011 - val_loss: 0.4988 - val_acc: 0.7557\n",
      "Epoch 15/25\n",
      "714/714 [==============================] - 0s 35us/sample - loss: 0.4165 - acc: 0.8053 - val_loss: 0.4981 - val_acc: 0.7524\n",
      "Epoch 16/25\n",
      "714/714 [==============================] - 0s 37us/sample - loss: 0.4109 - acc: 0.8095 - val_loss: 0.5009 - val_acc: 0.7427\n",
      "Epoch 17/25\n",
      "714/714 [==============================] - 0s 37us/sample - loss: 0.4081 - acc: 0.8123 - val_loss: 0.5022 - val_acc: 0.7459\n",
      "Epoch 18/25\n",
      "714/714 [==============================] - 0s 39us/sample - loss: 0.4032 - acc: 0.8179 - val_loss: 0.5030 - val_acc: 0.7459\n",
      "Epoch 19/25\n",
      "714/714 [==============================] - 0s 35us/sample - loss: 0.3991 - acc: 0.8165 - val_loss: 0.5024 - val_acc: 0.7394\n",
      "Epoch 20/25\n",
      "714/714 [==============================] - 0s 40us/sample - loss: 0.3936 - acc: 0.8207 - val_loss: 0.5036 - val_acc: 0.7427\n",
      "Epoch 21/25\n",
      "714/714 [==============================] - 0s 40us/sample - loss: 0.3906 - acc: 0.8221 - val_loss: 0.5080 - val_acc: 0.7329\n",
      "Epoch 22/25\n",
      "714/714 [==============================] - 0s 39us/sample - loss: 0.3858 - acc: 0.8305 - val_loss: 0.5060 - val_acc: 0.7394\n",
      "Epoch 23/25\n",
      "714/714 [==============================] - 0s 39us/sample - loss: 0.3810 - acc: 0.8305 - val_loss: 0.5102 - val_acc: 0.7427\n",
      "Epoch 24/25\n",
      "714/714 [==============================] - 0s 41us/sample - loss: 0.3762 - acc: 0.8263 - val_loss: 0.5078 - val_acc: 0.7427\n",
      "Epoch 25/25\n",
      "714/714 [==============================] - 0s 42us/sample - loss: 0.3714 - acc: 0.8361 - val_loss: 0.5104 - val_acc: 0.7459\n",
      "Test loss: 0.510354102822779\n",
      "Test accuracy: 0.74592835\n"
     ]
    }
   ],
   "source": [
    "# Training du modèle avec choix des hyperparamètres batch_size et epochs \n",
    "batch_size = 32\n",
    "epochs = 25\n",
    "\n",
    "history = model.fit(X_train,\n",
    "                    y_train,\n",
    "                    batch_size = batch_size,\n",
    "                    epochs = epochs,\n",
    "                    verbose = 1,\n",
    "                    validation_data = (X_test, y_test))\n",
    "\n",
    "score = model.evaluate(X_test, y_test, verbose=0)\n",
    "print('Test loss:', score[0])\n",
    "print('Test accuracy:', score[1])"
   ]
  },
  {
   "cell_type": "code",
   "execution_count": 155,
   "metadata": {},
   "outputs": [
    {
     "data": {
      "image/png": "[encoded data removed]",
      "text/plain": [
       "<Figure size 576x432 with 1 Axes>"
      ]
     },
     "metadata": {
      "needs_background": "light"
     },
     "output_type": "display_data"
    }
   ],
   "source": [
    "# Plot des loss \n",
    "import matplotlib.pyplot as plt\n",
    "plt.figure(figsize=(8,6))\n",
    "history_dict = history.history\n",
    "loss_values = history_dict['loss']\n",
    "val_loss_values = history_dict['val_loss']\n",
    "epochs = range(1, len(loss_values) + 1)\n",
    "line1 = plt.plot(epochs, val_loss_values, label='Validation/Test Loss')\n",
    "line2 = plt.plot(epochs, loss_values, label='Training Loss')\n",
    "plt.setp(line1, linewidth=2.0, marker = 'o', markersize=8.0)\n",
    "plt.setp(line2, linewidth=2.0, marker = '*', markersize=10.0)\n",
    "plt.xlabel('Epochs') \n",
    "plt.ylabel('Loss')\n",
    "plt.grid(True)\n",
    "plt.legend()\n",
    "plt.show()"
   ]
  },
  {
   "cell_type": "code",
   "execution_count": 162,
   "metadata": {},
   "outputs": [
    {
     "data": {
      "image/png": "[encoded data removed]",
      "text/plain": [
       "<Figure size 432x288 with 1 Axes>"
      ]
     },
     "metadata": {
      "needs_background": "light"
     },
     "output_type": "display_data"
    }
   ],
   "source": [
    "# Version avec TENSORFLOW 1.X et NON 2.X\n",
    "# Plotting accuracy \n",
    "import matplotlib.pyplot as plt\n",
    "\n",
    "history_dict = history.history\n",
    "\n",
    "acc_values = history_dict['acc']\n",
    "val_acc_values = history_dict['val_acc']\n",
    "epochs = range(1, len(loss_values) + 1)\n",
    "\n",
    "line1 = plt.plot(epochs, val_acc_values, label='Validation/Test Accuracy')\n",
    "line2 = plt.plot(epochs, acc_values, label='Training Accuracy')\n",
    "plt.setp(line1, linewidth=2.0, marker = '+', markersize=10.0)\n",
    "plt.setp(line2, linewidth=2.0, marker = '4', markersize=10.0)\n",
    "plt.xlabel('Epochs') \n",
    "plt.ylabel('Accuracy')\n",
    "plt.grid(True)\n",
    "plt.legend()\n",
    "plt.show()"
   ]
  },
  {
   "cell_type": "code",
   "execution_count": 159,
   "metadata": {},
   "outputs": [],
   "source": [
    "from sklearn.metrics import confusion_matrix\n",
    "from sklearn.metrics import classification_report\n",
    "from sklearn.metrics import accuracy_score"
   ]
  },
  {
   "cell_type": "code",
   "execution_count": 160,
   "metadata": {},
   "outputs": [
    {
     "name": "stdout",
     "output_type": "stream",
     "text": [
      "[[187  30]\n",
      " [ 48  42]]\n"
     ]
    }
   ],
   "source": [
    "predictions = model.predict(X_test)\n",
    "# seuil (proba) choisi à 0.5\n",
    "predictions = (predictions > 0.5)\n",
    "# matrice de confusion\n",
    "print(confusion_matrix(y_test, predictions))"
   ]
  },
  {
   "cell_type": "code",
   "execution_count": 161,
   "metadata": {},
   "outputs": [
    {
     "name": "stdout",
     "output_type": "stream",
     "text": [
      "              precision    recall  f1-score   support\n",
      "\n",
      "           0       0.80      0.86      0.83       217\n",
      "           1       0.58      0.47      0.52        90\n",
      "\n",
      "    accuracy                           0.75       307\n",
      "   macro avg       0.69      0.66      0.67       307\n",
      "weighted avg       0.73      0.75      0.74       307\n",
      "\n"
     ]
    }
   ],
   "source": [
    "print(classification_report(y_test, predictions))"
   ]
  },
  {
   "cell_type": "markdown",
   "metadata": {},
   "source": [
    "# 2- Modélisation ANN avec couches cachées :"
   ]
  },
  {
   "cell_type": "code",
   "execution_count": 266,
   "metadata": {},
   "outputs": [
    {
     "name": "stdout",
     "output_type": "stream",
     "text": [
      "_________________________________________________________________\n",
      "Layer (type)                 Output Shape              Param #   \n",
      "=================================================================\n",
      "dense_77 (Dense)             (None, 64)                2432      \n",
      "_________________________________________________________________\n",
      "dropout_54 (Dropout)         (None, 64)                0         \n",
      "_________________________________________________________________\n",
      "dense_78 (Dense)             (None, 32)                2080      \n",
      "_________________________________________________________________\n",
      "dropout_55 (Dropout)         (None, 32)                0         \n",
      "_________________________________________________________________\n",
      "dense_79 (Dense)             (None, 32)                1056      \n",
      "_________________________________________________________________\n",
      "dropout_56 (Dropout)         (None, 32)                0         \n",
      "_________________________________________________________________\n",
      "dense_80 (Dense)             (None, 1)                 33        \n",
      "=================================================================\n",
      "Total params: 5,601\n",
      "Trainable params: 5,601\n",
      "Non-trainable params: 0\n",
      "_________________________________________________________________\n"
     ]
    }
   ],
   "source": [
    "from tensorflow.keras.regularizers import l2\n",
    "from tensorflow.keras.layers import Dropout\n",
    "\n",
    "model2 = Sequential()\n",
    "\n",
    "model2.add(Dense(64, activation='relu', input_dim=37, kernel_regularizer=l2(0.01)))\n",
    "model2.add(Dropout(0.5, noise_shape=None, seed=None))\n",
    "\n",
    "# Hidden Layer 1\n",
    "model2.add(Dense(32, activation='relu', kernel_regularizer=l2(0.01)))\n",
    "model2.add(Dropout(0.5, noise_shape=None, seed=None))\n",
    "\n",
    "# Hidden Layer 2\n",
    "model2.add(Dense(32, activation = 'relu', kernel_regularizer=l2(0.01)))\n",
    "model2.add(Dropout(0.5, noise_shape=None, seed=None))\n",
    "\n",
    "model2.add(Dense(1, activation='sigmoid'))\n",
    "\n",
    "model2.summary()\n",
    "\n",
    "model2.compile(loss='binary_crossentropy', optimizer='adam', metrics=['accuracy'])"
   ]
  },
  {
   "cell_type": "code",
   "execution_count": 267,
   "metadata": {
    "scrolled": true
   },
   "outputs": [
    {
     "name": "stdout",
     "output_type": "stream",
     "text": [
      "Train on 714 samples, validate on 307 samples\n",
      "Epoch 1/100\n",
      "714/714 [==============================] - 1s 2ms/sample - loss: 1.8945 - acc: 0.6723 - val_loss: 1.7250 - val_acc: 0.7134\n",
      "Epoch 2/100\n",
      "714/714 [==============================] - 0s 78us/sample - loss: 1.7831 - acc: 0.6471 - val_loss: 1.6506 - val_acc: 0.7134\n",
      "Epoch 3/100\n",
      "714/714 [==============================] - 0s 79us/sample - loss: 1.6629 - acc: 0.6807 - val_loss: 1.5771 - val_acc: 0.7003\n",
      "Epoch 4/100\n",
      "714/714 [==============================] - 0s 77us/sample - loss: 1.5684 - acc: 0.6639 - val_loss: 1.5067 - val_acc: 0.7166\n",
      "Epoch 5/100\n",
      "714/714 [==============================] - 0s 79us/sample - loss: 1.4996 - acc: 0.6597 - val_loss: 1.4362 - val_acc: 0.7134\n",
      "Epoch 6/100\n",
      "714/714 [==============================] - 0s 76us/sample - loss: 1.4244 - acc: 0.6779 - val_loss: 1.3663 - val_acc: 0.7068\n",
      "Epoch 7/100\n",
      "714/714 [==============================] - 0s 82us/sample - loss: 1.3423 - acc: 0.6933 - val_loss: 1.2999 - val_acc: 0.7068\n",
      "Epoch 8/100\n",
      "714/714 [==============================] - 0s 76us/sample - loss: 1.3055 - acc: 0.7045 - val_loss: 1.2407 - val_acc: 0.7068\n",
      "Epoch 9/100\n",
      "714/714 [==============================] - 0s 80us/sample - loss: 1.2303 - acc: 0.6975 - val_loss: 1.1874 - val_acc: 0.7068\n",
      "Epoch 10/100\n",
      "714/714 [==============================] - 0s 83us/sample - loss: 1.1722 - acc: 0.6961 - val_loss: 1.1334 - val_acc: 0.7068\n",
      "Epoch 11/100\n",
      "714/714 [==============================] - 0s 76us/sample - loss: 1.1317 - acc: 0.7031 - val_loss: 1.0864 - val_acc: 0.7068\n",
      "Epoch 12/100\n",
      "714/714 [==============================] - 0s 76us/sample - loss: 1.0739 - acc: 0.7073 - val_loss: 1.0383 - val_acc: 0.7068\n",
      "Epoch 13/100\n",
      "714/714 [==============================] - 0s 80us/sample - loss: 1.0281 - acc: 0.7017 - val_loss: 0.9996 - val_acc: 0.7068\n",
      "Epoch 14/100\n",
      "714/714 [==============================] - 0s 76us/sample - loss: 0.9933 - acc: 0.7059 - val_loss: 0.9621 - val_acc: 0.7068\n",
      "Epoch 15/100\n",
      "714/714 [==============================] - 0s 82us/sample - loss: 0.9608 - acc: 0.6989 - val_loss: 0.9265 - val_acc: 0.7068\n",
      "Epoch 16/100\n",
      "714/714 [==============================] - 0s 77us/sample - loss: 0.9250 - acc: 0.7031 - val_loss: 0.8961 - val_acc: 0.7068\n",
      "Epoch 17/100\n",
      "714/714 [==============================] - 0s 91us/sample - loss: 0.8971 - acc: 0.7003 - val_loss: 0.8652 - val_acc: 0.7068\n",
      "Epoch 18/100\n",
      "714/714 [==============================] - 0s 78us/sample - loss: 0.8576 - acc: 0.7059 - val_loss: 0.8373 - val_acc: 0.7068\n",
      "Epoch 19/100\n",
      "714/714 [==============================] - 0s 71us/sample - loss: 0.8358 - acc: 0.7031 - val_loss: 0.8135 - val_acc: 0.7068\n",
      "Epoch 20/100\n",
      "714/714 [==============================] - 0s 72us/sample - loss: 0.8140 - acc: 0.7129 - val_loss: 0.7899 - val_acc: 0.7068\n",
      "Epoch 21/100\n",
      "714/714 [==============================] - 0s 72us/sample - loss: 0.7852 - acc: 0.7059 - val_loss: 0.7677 - val_acc: 0.7068\n",
      "Epoch 22/100\n",
      "714/714 [==============================] - 0s 71us/sample - loss: 0.7734 - acc: 0.7115 - val_loss: 0.7479 - val_acc: 0.7068\n",
      "Epoch 23/100\n",
      "714/714 [==============================] - 0s 68us/sample - loss: 0.7323 - acc: 0.7157 - val_loss: 0.7302 - val_acc: 0.7101\n",
      "Epoch 24/100\n",
      "714/714 [==============================] - 0s 74us/sample - loss: 0.7240 - acc: 0.7031 - val_loss: 0.7140 - val_acc: 0.7101\n",
      "Epoch 25/100\n",
      "714/714 [==============================] - 0s 70us/sample - loss: 0.7070 - acc: 0.7143 - val_loss: 0.7002 - val_acc: 0.7068\n",
      "Epoch 26/100\n",
      "714/714 [==============================] - 0s 76us/sample - loss: 0.6900 - acc: 0.7157 - val_loss: 0.6881 - val_acc: 0.7199\n",
      "Epoch 27/100\n",
      "714/714 [==============================] - 0s 71us/sample - loss: 0.6774 - acc: 0.7157 - val_loss: 0.6740 - val_acc: 0.7362\n",
      "Epoch 28/100\n",
      "714/714 [==============================] - 0s 71us/sample - loss: 0.6691 - acc: 0.7255 - val_loss: 0.6633 - val_acc: 0.7329\n",
      "Epoch 29/100\n",
      "714/714 [==============================] - 0s 72us/sample - loss: 0.6675 - acc: 0.7437 - val_loss: 0.6561 - val_acc: 0.7459\n",
      "Epoch 30/100\n",
      "714/714 [==============================] - 0s 73us/sample - loss: 0.6423 - acc: 0.7465 - val_loss: 0.6445 - val_acc: 0.7492\n",
      "Epoch 31/100\n",
      "714/714 [==============================] - 0s 72us/sample - loss: 0.6270 - acc: 0.7507 - val_loss: 0.6372 - val_acc: 0.7524\n",
      "Epoch 32/100\n",
      "714/714 [==============================] - 0s 77us/sample - loss: 0.6287 - acc: 0.7521 - val_loss: 0.6281 - val_acc: 0.7492\n",
      "Epoch 33/100\n",
      "714/714 [==============================] - 0s 71us/sample - loss: 0.6080 - acc: 0.7605 - val_loss: 0.6243 - val_acc: 0.7394\n",
      "Epoch 34/100\n",
      "714/714 [==============================] - 0s 72us/sample - loss: 0.6025 - acc: 0.7451 - val_loss: 0.6167 - val_acc: 0.7524\n",
      "Epoch 35/100\n",
      "714/714 [==============================] - 0s 73us/sample - loss: 0.5899 - acc: 0.7577 - val_loss: 0.6117 - val_acc: 0.7427\n",
      "Epoch 36/100\n",
      "714/714 [==============================] - 0s 72us/sample - loss: 0.5810 - acc: 0.7619 - val_loss: 0.6050 - val_acc: 0.7492\n",
      "Epoch 37/100\n",
      "714/714 [==============================] - 0s 71us/sample - loss: 0.5759 - acc: 0.7717 - val_loss: 0.5984 - val_acc: 0.7492\n",
      "Epoch 38/100\n",
      "714/714 [==============================] - 0s 85us/sample - loss: 0.5795 - acc: 0.7717 - val_loss: 0.5945 - val_acc: 0.7427\n",
      "Epoch 39/100\n",
      "714/714 [==============================] - 0s 72us/sample - loss: 0.5751 - acc: 0.7717 - val_loss: 0.5902 - val_acc: 0.7459\n",
      "Epoch 40/100\n",
      "714/714 [==============================] - 0s 75us/sample - loss: 0.5545 - acc: 0.7801 - val_loss: 0.5870 - val_acc: 0.7557\n",
      "Epoch 41/100\n",
      "714/714 [==============================] - 0s 74us/sample - loss: 0.5657 - acc: 0.7885 - val_loss: 0.5847 - val_acc: 0.7459\n",
      "Epoch 42/100\n",
      "714/714 [==============================] - 0s 68us/sample - loss: 0.5577 - acc: 0.7703 - val_loss: 0.5808 - val_acc: 0.7524\n",
      "Epoch 43/100\n",
      "714/714 [==============================] - 0s 89us/sample - loss: 0.5431 - acc: 0.7773 - val_loss: 0.5805 - val_acc: 0.7590\n",
      "Epoch 44/100\n",
      "714/714 [==============================] - 0s 105us/sample - loss: 0.5410 - acc: 0.7829 - val_loss: 0.5776 - val_acc: 0.7557\n",
      "Epoch 45/100\n",
      "714/714 [==============================] - 0s 94us/sample - loss: 0.5501 - acc: 0.7871 - val_loss: 0.5735 - val_acc: 0.7524\n",
      "Epoch 46/100\n",
      "714/714 [==============================] - 0s 92us/sample - loss: 0.5594 - acc: 0.7969 - val_loss: 0.5711 - val_acc: 0.7492\n",
      "Epoch 47/100\n",
      "714/714 [==============================] - 0s 90us/sample - loss: 0.5398 - acc: 0.7913 - val_loss: 0.5709 - val_acc: 0.7427\n",
      "Epoch 48/100\n",
      "714/714 [==============================] - 0s 69us/sample - loss: 0.5283 - acc: 0.7969 - val_loss: 0.5691 - val_acc: 0.7427\n",
      "Epoch 49/100\n",
      "714/714 [==============================] - 0s 69us/sample - loss: 0.5343 - acc: 0.7941 - val_loss: 0.5677 - val_acc: 0.7459\n",
      "Epoch 50/100\n",
      "714/714 [==============================] - 0s 69us/sample - loss: 0.5187 - acc: 0.7941 - val_loss: 0.5703 - val_acc: 0.7394\n",
      "Epoch 51/100\n",
      "714/714 [==============================] - 0s 72us/sample - loss: 0.5291 - acc: 0.7983 - val_loss: 0.5687 - val_acc: 0.7524\n",
      "Epoch 52/100\n",
      "714/714 [==============================] - 0s 82us/sample - loss: 0.5201 - acc: 0.8151 - val_loss: 0.5692 - val_acc: 0.7557\n",
      "Epoch 53/100\n",
      "714/714 [==============================] - 0s 85us/sample - loss: 0.5105 - acc: 0.8025 - val_loss: 0.5661 - val_acc: 0.7557\n",
      "Epoch 54/100\n",
      "714/714 [==============================] - 0s 70us/sample - loss: 0.5045 - acc: 0.8137 - val_loss: 0.5681 - val_acc: 0.7557\n",
      "Epoch 55/100\n",
      "714/714 [==============================] - 0s 80us/sample - loss: 0.5119 - acc: 0.8081 - val_loss: 0.5657 - val_acc: 0.7590\n",
      "Epoch 56/100\n",
      "714/714 [==============================] - 0s 84us/sample - loss: 0.5024 - acc: 0.8109 - val_loss: 0.5652 - val_acc: 0.7557\n",
      "Epoch 57/100\n",
      "714/714 [==============================] - 0s 91us/sample - loss: 0.5074 - acc: 0.8081 - val_loss: 0.5668 - val_acc: 0.7459\n",
      "Epoch 58/100\n",
      "714/714 [==============================] - 0s 84us/sample - loss: 0.5091 - acc: 0.8179 - val_loss: 0.5612 - val_acc: 0.7557\n",
      "Epoch 59/100\n",
      "714/714 [==============================] - 0s 91us/sample - loss: 0.5084 - acc: 0.8053 - val_loss: 0.5657 - val_acc: 0.7427\n",
      "Epoch 60/100\n",
      "714/714 [==============================] - 0s 76us/sample - loss: 0.5067 - acc: 0.8165 - val_loss: 0.5676 - val_acc: 0.7622\n",
      "Epoch 61/100\n",
      "714/714 [==============================] - 0s 68us/sample - loss: 0.4960 - acc: 0.8235 - val_loss: 0.5676 - val_acc: 0.7492\n",
      "Epoch 62/100\n",
      "714/714 [==============================] - 0s 70us/sample - loss: 0.4900 - acc: 0.8361 - val_loss: 0.5761 - val_acc: 0.7427\n",
      "Epoch 63/100\n",
      "714/714 [==============================] - 0s 66us/sample - loss: 0.4954 - acc: 0.8291 - val_loss: 0.5686 - val_acc: 0.7524\n",
      "Epoch 64/100\n",
      "714/714 [==============================] - 0s 75us/sample - loss: 0.5038 - acc: 0.8263 - val_loss: 0.5704 - val_acc: 0.7427\n",
      "Epoch 65/100\n",
      "714/714 [==============================] - 0s 79us/sample - loss: 0.4919 - acc: 0.8221 - val_loss: 0.5789 - val_acc: 0.7492\n",
      "Epoch 66/100\n",
      "714/714 [==============================] - 0s 72us/sample - loss: 0.4710 - acc: 0.8249 - val_loss: 0.5804 - val_acc: 0.7524\n",
      "Epoch 67/100\n",
      "714/714 [==============================] - 0s 75us/sample - loss: 0.4917 - acc: 0.8053 - val_loss: 0.5691 - val_acc: 0.7590\n",
      "Epoch 68/100\n",
      "714/714 [==============================] - 0s 72us/sample - loss: 0.4947 - acc: 0.8277 - val_loss: 0.5729 - val_acc: 0.7524\n",
      "Epoch 00068: early stopping\n",
      "Test loss: 0.5728619123903081\n",
      "Test accuracy: 0.752443\n"
     ]
    }
   ],
   "source": [
    "from tensorflow.keras.callbacks import EarlyStopping\n",
    "early_stop = EarlyStopping(monitor='val_loss', mode='min', verbose=1, patience=10)\n",
    "\n",
    "# training du modèle\n",
    "batch_size = 32\n",
    "epochs = 100\n",
    "\n",
    "history = model2.fit(X_train,\n",
    "                    y_train,\n",
    "                    batch_size = batch_size,\n",
    "                    epochs = epochs,\n",
    "                    verbose = 1,\n",
    "                    callbacks=[early_stop], \n",
    "                    validation_data = (X_test, y_test))\n",
    "\n",
    "score = model2.evaluate(X_test, y_test, verbose=0)\n",
    "print('Test loss:', score[0])\n",
    "print('Test accuracy:', score[1])"
   ]
  },
  {
   "cell_type": "code",
   "execution_count": 268,
   "metadata": {},
   "outputs": [
    {
     "data": {
      "image/png": "[encoded data removed]",
      "text/plain": [
       "<Figure size 576x432 with 1 Axes>"
      ]
     },
     "metadata": {
      "needs_background": "light"
     },
     "output_type": "display_data"
    }
   ],
   "source": [
    "# Plot des loss \n",
    "plt.figure(figsize=(8,6))\n",
    "history_dict = history.history\n",
    "\n",
    "loss_values = history_dict['loss']\n",
    "val_loss_values = history_dict['val_loss']\n",
    "epochs = range(1, len(loss_values) + 1)\n",
    "line1 = plt.plot(epochs, val_loss_values, label='Validation/Test Loss')\n",
    "line2 = plt.plot(epochs, loss_values, label='Training Loss')\n",
    "plt.setp(line1, linewidth=2.0, marker = 'o', markersize=8.0)\n",
    "plt.setp(line2, linewidth=2.0, marker = '*', markersize=10.0)\n",
    "plt.xlabel('Epochs') \n",
    "plt.ylabel('Loss')\n",
    "plt.grid(True)\n",
    "plt.legend()\n",
    "plt.show()"
   ]
  },
  {
   "cell_type": "code",
   "execution_count": 269,
   "metadata": {},
   "outputs": [
    {
     "data": {
      "image/png": "[encoded data removed]",
      "text/plain": [
       "<Figure size 432x288 with 1 Axes>"
      ]
     },
     "metadata": {
      "needs_background": "light"
     },
     "output_type": "display_data"
    }
   ],
   "source": [
    "history_dict = history.history\n",
    "\n",
    "acc_values = history_dict['acc']\n",
    "val_acc_values = history_dict['val_acc']\n",
    "epochs = range(1, len(loss_values) + 1)\n",
    "\n",
    "line1 = plt.plot(epochs, val_acc_values, label='Validation/Test Accuracy')\n",
    "line2 = plt.plot(epochs, acc_values, label='Training Accuracy')\n",
    "plt.setp(line1, linewidth=2.0, marker = '+', markersize=10.0)\n",
    "plt.setp(line2, linewidth=2.0, marker = '4', markersize=10.0)\n",
    "plt.xlabel('Epochs') \n",
    "plt.ylabel('Accuracy')\n",
    "plt.grid(True)\n",
    "plt.legend()\n",
    "plt.show()"
   ]
  },
  {
   "cell_type": "code",
   "execution_count": 270,
   "metadata": {},
   "outputs": [
    {
     "name": "stdout",
     "output_type": "stream",
     "text": [
      "[[190  27]\n",
      " [ 49  41]]\n"
     ]
    }
   ],
   "source": [
    "predictions = model2.predict(X_test)\n",
    "# seuil (proba) choisi à 0.5\n",
    "predictions = (predictions > 0.5)\n",
    "# matrice de confusion\n",
    "print(confusion_matrix(y_test, predictions))"
   ]
  },
  {
   "cell_type": "code",
   "execution_count": 271,
   "metadata": {},
   "outputs": [
    {
     "name": "stdout",
     "output_type": "stream",
     "text": [
      "              precision    recall  f1-score   support\n",
      "\n",
      "           0       0.79      0.88      0.83       217\n",
      "           1       0.60      0.46      0.52        90\n",
      "\n",
      "    accuracy                           0.75       307\n",
      "   macro avg       0.70      0.67      0.68       307\n",
      "weighted avg       0.74      0.75      0.74       307\n",
      "\n"
     ]
    }
   ],
   "source": [
    "print(classification_report(y_test, predictions))"
   ]
  },
  {
   "cell_type": "code",
   "execution_count": null,
   "metadata": {},
   "outputs": [],
   "source": []
  }
 ],
 "metadata": {
  "kernelspec": {
   "display_name": "Python 3",
   "language": "python",
   "name": "python3"
  },
  "language_info": {
   "codemirror_mode": {
    "name": "ipython",
    "version": 3
   },
   "file_extension": ".py",
   "mimetype": "text/x-python",
   "name": "python",
   "nbconvert_exporter": "python",
   "pygments_lexer": "ipython3",
   "version": "3.8.3"
  }
 },
 "nbformat": 4,
 "nbformat_minor": 5
}
