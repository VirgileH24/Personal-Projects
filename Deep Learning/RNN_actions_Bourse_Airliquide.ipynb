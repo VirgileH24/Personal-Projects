{
 "cells": [
  {
   "cell_type": "markdown",
   "metadata": {},
   "source": [
    "### prévision valeur action Air Liquide"
   ]
  },
  {
   "cell_type": "markdown",
   "metadata": {},
   "source": [
    "## Partie 1 - Préparation des données"
   ]
  },
  {
   "cell_type": "code",
   "execution_count": 1,
   "metadata": {},
   "outputs": [],
   "source": [
    "import numpy as np\n",
    "import matplotlib.pyplot as plt\n",
    "import pandas as pd"
   ]
  },
  {
   "cell_type": "markdown",
   "metadata": {},
   "source": [
    "### prévision valeur action Air Liquide"
   ]
  },
  {
   "cell_type": "code",
   "execution_count": 2,
   "metadata": {},
   "outputs": [],
   "source": [
    "jour_debut = 3\n",
    "mois_debut = 1\n",
    "annee_debut = 2017\n",
    "mois_fin = 1\n",
    "jour_fin = 29\n",
    "annee_fin = 2021"
   ]
  },
  {
   "cell_type": "code",
   "execution_count": 3,
   "metadata": {},
   "outputs": [
    {
     "ename": "ModuleNotFoundError",
     "evalue": "No module named 'pandas_datareader'",
     "output_type": "error",
     "traceback": [
      "\u001b[1;31m---------------------------------------------------------------------------\u001b[0m",
      "\u001b[1;31mModuleNotFoundError\u001b[0m                       Traceback (most recent call last)",
      "\u001b[1;32m<ipython-input-3-5239dd8fdffe>\u001b[0m in \u001b[0;36m<module>\u001b[1;34m\u001b[0m\n\u001b[1;32m----> 1\u001b[1;33m \u001b[1;32mimport\u001b[0m \u001b[0mpandas_datareader\u001b[0m\u001b[1;33m.\u001b[0m\u001b[0mdata\u001b[0m \u001b[1;32mas\u001b[0m \u001b[0mweb\u001b[0m\u001b[1;33m\u001b[0m\u001b[1;33m\u001b[0m\u001b[0m\n\u001b[0m\u001b[0;32m      2\u001b[0m \u001b[1;33m\u001b[0m\u001b[0m\n\u001b[0;32m      3\u001b[0m \u001b[1;32mimport\u001b[0m \u001b[0mdatetime\u001b[0m\u001b[1;33m\u001b[0m\u001b[1;33m\u001b[0m\u001b[0m\n\u001b[0;32m      4\u001b[0m \u001b[1;31m# date de début : année puis mois puis jour\u001b[0m\u001b[1;33m\u001b[0m\u001b[1;33m\u001b[0m\u001b[1;33m\u001b[0m\u001b[0m\n\u001b[0;32m      5\u001b[0m \u001b[0mstart\u001b[0m \u001b[1;33m=\u001b[0m \u001b[0mdatetime\u001b[0m\u001b[1;33m.\u001b[0m\u001b[0mdatetime\u001b[0m\u001b[1;33m(\u001b[0m\u001b[0mannee_debut\u001b[0m\u001b[1;33m,\u001b[0m \u001b[0mmois_debut\u001b[0m\u001b[1;33m,\u001b[0m \u001b[0mjour_debut\u001b[0m\u001b[1;33m)\u001b[0m\u001b[1;33m\u001b[0m\u001b[1;33m\u001b[0m\u001b[0m\n",
      "\u001b[1;31mModuleNotFoundError\u001b[0m: No module named 'pandas_datareader'"
     ]
    }
   ],
   "source": [
    "import pandas_datareader.data as web\n",
    "\n",
    "import datetime\n",
    "# date de début : année puis mois puis jour\n",
    "start = datetime.datetime(annee_debut, mois_debut, jour_debut)\n",
    "# date de fin\n",
    "end = datetime.datetime(annee_fin, mois_fin, jour_fin)\n",
    "\n",
    "Airliquide_train = web.DataReader(\"AI.PA\", 'yahoo', start, end)"
   ]
  },
  {
   "cell_type": "code",
   "execution_count": 5,
   "metadata": {},
   "outputs": [],
   "source": [
    "jour_debut = 1\n",
    "mois_debut = 2\n",
    "annee_debut = 2021\n",
    "mois_fin = 2\n",
    "jour_fin = 26\n",
    "annee_fin = 2021"
   ]
  },
  {
   "cell_type": "code",
   "execution_count": 6,
   "metadata": {},
   "outputs": [],
   "source": [
    "import pandas_datareader.data as web\n",
    "\n",
    "import datetime\n",
    "# date de début : année puis mois puis jour\n",
    "start = datetime.datetime(annee_debut, mois_debut, jour_debut)\n",
    "# date de fin\n",
    "end = datetime.datetime(annee_fin, mois_fin, jour_fin)\n",
    "\n",
    "Airliquide_test = web.DataReader(\"AI.PA\", 'yahoo', start, end)"
   ]
  },
  {
   "cell_type": "code",
   "execution_count": 9,
   "metadata": {},
   "outputs": [
    {
     "data": {
      "text/html": [
       "<div>\n",
       "<style scoped>\n",
       "    .dataframe tbody tr th:only-of-type {\n",
       "        vertical-align: middle;\n",
       "    }\n",
       "\n",
       "    .dataframe tbody tr th {\n",
       "        vertical-align: top;\n",
       "    }\n",
       "\n",
       "    .dataframe thead th {\n",
       "        text-align: right;\n",
       "    }\n",
       "</style>\n",
       "<table border=\"1\" class=\"dataframe\">\n",
       "  <thead>\n",
       "    <tr style=\"text-align: right;\">\n",
       "      <th></th>\n",
       "      <th>High</th>\n",
       "      <th>Low</th>\n",
       "      <th>Open</th>\n",
       "      <th>Close</th>\n",
       "      <th>Volume</th>\n",
       "      <th>Adj Close</th>\n",
       "    </tr>\n",
       "    <tr>\n",
       "      <th>Date</th>\n",
       "      <th></th>\n",
       "      <th></th>\n",
       "      <th></th>\n",
       "      <th></th>\n",
       "      <th></th>\n",
       "      <th></th>\n",
       "    </tr>\n",
       "  </thead>\n",
       "  <tbody>\n",
       "    <tr>\n",
       "      <th>2021-01-25</th>\n",
       "      <td>132.949997</td>\n",
       "      <td>131.000000</td>\n",
       "      <td>132.649994</td>\n",
       "      <td>131.399994</td>\n",
       "      <td>897215.0</td>\n",
       "      <td>131.399994</td>\n",
       "    </tr>\n",
       "    <tr>\n",
       "      <th>2021-01-26</th>\n",
       "      <td>135.399994</td>\n",
       "      <td>131.500000</td>\n",
       "      <td>131.500000</td>\n",
       "      <td>134.949997</td>\n",
       "      <td>1109386.0</td>\n",
       "      <td>134.949997</td>\n",
       "    </tr>\n",
       "    <tr>\n",
       "      <th>2021-01-27</th>\n",
       "      <td>137.399994</td>\n",
       "      <td>133.949997</td>\n",
       "      <td>135.500000</td>\n",
       "      <td>136.500000</td>\n",
       "      <td>1457320.0</td>\n",
       "      <td>136.500000</td>\n",
       "    </tr>\n",
       "    <tr>\n",
       "      <th>2021-01-28</th>\n",
       "      <td>137.149994</td>\n",
       "      <td>133.649994</td>\n",
       "      <td>135.100006</td>\n",
       "      <td>136.399994</td>\n",
       "      <td>949552.0</td>\n",
       "      <td>136.399994</td>\n",
       "    </tr>\n",
       "    <tr>\n",
       "      <th>2021-01-29</th>\n",
       "      <td>137.399994</td>\n",
       "      <td>133.699997</td>\n",
       "      <td>134.699997</td>\n",
       "      <td>135.000000</td>\n",
       "      <td>1306709.0</td>\n",
       "      <td>135.000000</td>\n",
       "    </tr>\n",
       "  </tbody>\n",
       "</table>\n",
       "</div>"
      ],
      "text/plain": [
       "                  High         Low        Open       Close     Volume  \\\n",
       "Date                                                                    \n",
       "2021-01-25  132.949997  131.000000  132.649994  131.399994   897215.0   \n",
       "2021-01-26  135.399994  131.500000  131.500000  134.949997  1109386.0   \n",
       "2021-01-27  137.399994  133.949997  135.500000  136.500000  1457320.0   \n",
       "2021-01-28  137.149994  133.649994  135.100006  136.399994   949552.0   \n",
       "2021-01-29  137.399994  133.699997  134.699997  135.000000  1306709.0   \n",
       "\n",
       "             Adj Close  \n",
       "Date                    \n",
       "2021-01-25  131.399994  \n",
       "2021-01-26  134.949997  \n",
       "2021-01-27  136.500000  \n",
       "2021-01-28  136.399994  \n",
       "2021-01-29  135.000000  "
      ]
     },
     "execution_count": 9,
     "metadata": {},
     "output_type": "execute_result"
    }
   ],
   "source": [
    "Airliquide_train.tail()"
   ]
  },
  {
   "cell_type": "code",
   "execution_count": 7,
   "metadata": {},
   "outputs": [
    {
     "data": {
      "text/html": [
       "<div>\n",
       "<style scoped>\n",
       "    .dataframe tbody tr th:only-of-type {\n",
       "        vertical-align: middle;\n",
       "    }\n",
       "\n",
       "    .dataframe tbody tr th {\n",
       "        vertical-align: top;\n",
       "    }\n",
       "\n",
       "    .dataframe thead th {\n",
       "        text-align: right;\n",
       "    }\n",
       "</style>\n",
       "<table border=\"1\" class=\"dataframe\">\n",
       "  <thead>\n",
       "    <tr style=\"text-align: right;\">\n",
       "      <th></th>\n",
       "      <th>High</th>\n",
       "      <th>Low</th>\n",
       "      <th>Open</th>\n",
       "      <th>Close</th>\n",
       "      <th>Volume</th>\n",
       "      <th>Adj Close</th>\n",
       "    </tr>\n",
       "    <tr>\n",
       "      <th>Date</th>\n",
       "      <th></th>\n",
       "      <th></th>\n",
       "      <th></th>\n",
       "      <th></th>\n",
       "      <th></th>\n",
       "      <th></th>\n",
       "    </tr>\n",
       "  </thead>\n",
       "  <tbody>\n",
       "    <tr>\n",
       "      <th>2021-02-01</th>\n",
       "      <td>137.199997</td>\n",
       "      <td>135.649994</td>\n",
       "      <td>136.500000</td>\n",
       "      <td>136.100006</td>\n",
       "      <td>714800</td>\n",
       "      <td>136.100006</td>\n",
       "    </tr>\n",
       "    <tr>\n",
       "      <th>2021-02-02</th>\n",
       "      <td>137.850006</td>\n",
       "      <td>135.800003</td>\n",
       "      <td>136.500000</td>\n",
       "      <td>135.850006</td>\n",
       "      <td>1022688</td>\n",
       "      <td>135.850006</td>\n",
       "    </tr>\n",
       "    <tr>\n",
       "      <th>2021-02-03</th>\n",
       "      <td>137.500000</td>\n",
       "      <td>136.050003</td>\n",
       "      <td>136.449997</td>\n",
       "      <td>136.500000</td>\n",
       "      <td>560372</td>\n",
       "      <td>136.500000</td>\n",
       "    </tr>\n",
       "    <tr>\n",
       "      <th>2021-02-04</th>\n",
       "      <td>137.550003</td>\n",
       "      <td>135.600006</td>\n",
       "      <td>136.300003</td>\n",
       "      <td>136.350006</td>\n",
       "      <td>790280</td>\n",
       "      <td>136.350006</td>\n",
       "    </tr>\n",
       "    <tr>\n",
       "      <th>2021-02-05</th>\n",
       "      <td>136.899994</td>\n",
       "      <td>135.550003</td>\n",
       "      <td>136.199997</td>\n",
       "      <td>136.250000</td>\n",
       "      <td>698441</td>\n",
       "      <td>136.250000</td>\n",
       "    </tr>\n",
       "    <tr>\n",
       "      <th>2021-02-08</th>\n",
       "      <td>137.399994</td>\n",
       "      <td>135.949997</td>\n",
       "      <td>136.800003</td>\n",
       "      <td>136.800003</td>\n",
       "      <td>621520</td>\n",
       "      <td>136.800003</td>\n",
       "    </tr>\n",
       "    <tr>\n",
       "      <th>2021-02-09</th>\n",
       "      <td>137.500000</td>\n",
       "      <td>135.949997</td>\n",
       "      <td>136.500000</td>\n",
       "      <td>137.500000</td>\n",
       "      <td>640339</td>\n",
       "      <td>137.500000</td>\n",
       "    </tr>\n",
       "    <tr>\n",
       "      <th>2021-02-10</th>\n",
       "      <td>138.000000</td>\n",
       "      <td>133.899994</td>\n",
       "      <td>138.000000</td>\n",
       "      <td>134.750000</td>\n",
       "      <td>1075420</td>\n",
       "      <td>134.750000</td>\n",
       "    </tr>\n",
       "    <tr>\n",
       "      <th>2021-02-11</th>\n",
       "      <td>135.600006</td>\n",
       "      <td>134.449997</td>\n",
       "      <td>135.350006</td>\n",
       "      <td>134.949997</td>\n",
       "      <td>717594</td>\n",
       "      <td>134.949997</td>\n",
       "    </tr>\n",
       "    <tr>\n",
       "      <th>2021-02-12</th>\n",
       "      <td>135.250000</td>\n",
       "      <td>134.149994</td>\n",
       "      <td>134.399994</td>\n",
       "      <td>134.899994</td>\n",
       "      <td>668289</td>\n",
       "      <td>134.899994</td>\n",
       "    </tr>\n",
       "    <tr>\n",
       "      <th>2021-02-15</th>\n",
       "      <td>135.500000</td>\n",
       "      <td>134.250000</td>\n",
       "      <td>135.199997</td>\n",
       "      <td>134.250000</td>\n",
       "      <td>656520</td>\n",
       "      <td>134.250000</td>\n",
       "    </tr>\n",
       "    <tr>\n",
       "      <th>2021-02-16</th>\n",
       "      <td>135.050003</td>\n",
       "      <td>133.149994</td>\n",
       "      <td>134.350006</td>\n",
       "      <td>133.149994</td>\n",
       "      <td>594960</td>\n",
       "      <td>133.149994</td>\n",
       "    </tr>\n",
       "    <tr>\n",
       "      <th>2021-02-17</th>\n",
       "      <td>134.300003</td>\n",
       "      <td>133.000000</td>\n",
       "      <td>133.050003</td>\n",
       "      <td>133.550003</td>\n",
       "      <td>673121</td>\n",
       "      <td>133.550003</td>\n",
       "    </tr>\n",
       "    <tr>\n",
       "      <th>2021-02-18</th>\n",
       "      <td>133.600006</td>\n",
       "      <td>132.399994</td>\n",
       "      <td>133.149994</td>\n",
       "      <td>133.000000</td>\n",
       "      <td>694327</td>\n",
       "      <td>133.000000</td>\n",
       "    </tr>\n",
       "    <tr>\n",
       "      <th>2021-02-19</th>\n",
       "      <td>133.649994</td>\n",
       "      <td>132.149994</td>\n",
       "      <td>133.449997</td>\n",
       "      <td>132.149994</td>\n",
       "      <td>782048</td>\n",
       "      <td>132.149994</td>\n",
       "    </tr>\n",
       "    <tr>\n",
       "      <th>2021-02-22</th>\n",
       "      <td>132.199997</td>\n",
       "      <td>130.850006</td>\n",
       "      <td>132.100006</td>\n",
       "      <td>131.100006</td>\n",
       "      <td>835870</td>\n",
       "      <td>131.100006</td>\n",
       "    </tr>\n",
       "    <tr>\n",
       "      <th>2021-02-23</th>\n",
       "      <td>131.500000</td>\n",
       "      <td>129.350006</td>\n",
       "      <td>131.300003</td>\n",
       "      <td>130.350006</td>\n",
       "      <td>952000</td>\n",
       "      <td>130.350006</td>\n",
       "    </tr>\n",
       "    <tr>\n",
       "      <th>2021-02-24</th>\n",
       "      <td>131.750000</td>\n",
       "      <td>129.300003</td>\n",
       "      <td>130.149994</td>\n",
       "      <td>129.300003</td>\n",
       "      <td>1022464</td>\n",
       "      <td>129.300003</td>\n",
       "    </tr>\n",
       "    <tr>\n",
       "      <th>2021-02-25</th>\n",
       "      <td>129.500000</td>\n",
       "      <td>126.800003</td>\n",
       "      <td>129.449997</td>\n",
       "      <td>126.800003</td>\n",
       "      <td>1554359</td>\n",
       "      <td>126.800003</td>\n",
       "    </tr>\n",
       "    <tr>\n",
       "      <th>2021-02-26</th>\n",
       "      <td>127.150002</td>\n",
       "      <td>124.250000</td>\n",
       "      <td>126.000000</td>\n",
       "      <td>124.699997</td>\n",
       "      <td>1813739</td>\n",
       "      <td>124.699997</td>\n",
       "    </tr>\n",
       "  </tbody>\n",
       "</table>\n",
       "</div>"
      ],
      "text/plain": [
       "                  High         Low        Open       Close   Volume  \\\n",
       "Date                                                                  \n",
       "2021-02-01  137.199997  135.649994  136.500000  136.100006   714800   \n",
       "2021-02-02  137.850006  135.800003  136.500000  135.850006  1022688   \n",
       "2021-02-03  137.500000  136.050003  136.449997  136.500000   560372   \n",
       "2021-02-04  137.550003  135.600006  136.300003  136.350006   790280   \n",
       "2021-02-05  136.899994  135.550003  136.199997  136.250000   698441   \n",
       "2021-02-08  137.399994  135.949997  136.800003  136.800003   621520   \n",
       "2021-02-09  137.500000  135.949997  136.500000  137.500000   640339   \n",
       "2021-02-10  138.000000  133.899994  138.000000  134.750000  1075420   \n",
       "2021-02-11  135.600006  134.449997  135.350006  134.949997   717594   \n",
       "2021-02-12  135.250000  134.149994  134.399994  134.899994   668289   \n",
       "2021-02-15  135.500000  134.250000  135.199997  134.250000   656520   \n",
       "2021-02-16  135.050003  133.149994  134.350006  133.149994   594960   \n",
       "2021-02-17  134.300003  133.000000  133.050003  133.550003   673121   \n",
       "2021-02-18  133.600006  132.399994  133.149994  133.000000   694327   \n",
       "2021-02-19  133.649994  132.149994  133.449997  132.149994   782048   \n",
       "2021-02-22  132.199997  130.850006  132.100006  131.100006   835870   \n",
       "2021-02-23  131.500000  129.350006  131.300003  130.350006   952000   \n",
       "2021-02-24  131.750000  129.300003  130.149994  129.300003  1022464   \n",
       "2021-02-25  129.500000  126.800003  129.449997  126.800003  1554359   \n",
       "2021-02-26  127.150002  124.250000  126.000000  124.699997  1813739   \n",
       "\n",
       "             Adj Close  \n",
       "Date                    \n",
       "2021-02-01  136.100006  \n",
       "2021-02-02  135.850006  \n",
       "2021-02-03  136.500000  \n",
       "2021-02-04  136.350006  \n",
       "2021-02-05  136.250000  \n",
       "2021-02-08  136.800003  \n",
       "2021-02-09  137.500000  \n",
       "2021-02-10  134.750000  \n",
       "2021-02-11  134.949997  \n",
       "2021-02-12  134.899994  \n",
       "2021-02-15  134.250000  \n",
       "2021-02-16  133.149994  \n",
       "2021-02-17  133.550003  \n",
       "2021-02-18  133.000000  \n",
       "2021-02-19  132.149994  \n",
       "2021-02-22  131.100006  \n",
       "2021-02-23  130.350006  \n",
       "2021-02-24  129.300003  \n",
       "2021-02-25  126.800003  \n",
       "2021-02-26  124.699997  "
      ]
     },
     "execution_count": 7,
     "metadata": {},
     "output_type": "execute_result"
    }
   ],
   "source": [
    "Airliquide_test.head(20)"
   ]
  },
  {
   "cell_type": "code",
   "execution_count": 10,
   "metadata": {},
   "outputs": [
    {
     "data": {
      "text/html": [
       "<div>\n",
       "<style scoped>\n",
       "    .dataframe tbody tr th:only-of-type {\n",
       "        vertical-align: middle;\n",
       "    }\n",
       "\n",
       "    .dataframe tbody tr th {\n",
       "        vertical-align: top;\n",
       "    }\n",
       "\n",
       "    .dataframe thead th {\n",
       "        text-align: right;\n",
       "    }\n",
       "</style>\n",
       "<table border=\"1\" class=\"dataframe\">\n",
       "  <thead>\n",
       "    <tr style=\"text-align: right;\">\n",
       "      <th></th>\n",
       "      <th>High</th>\n",
       "      <th>Low</th>\n",
       "      <th>Open</th>\n",
       "      <th>Close</th>\n",
       "      <th>Volume</th>\n",
       "      <th>Adj Close</th>\n",
       "    </tr>\n",
       "    <tr>\n",
       "      <th>Date</th>\n",
       "      <th></th>\n",
       "      <th></th>\n",
       "      <th></th>\n",
       "      <th></th>\n",
       "      <th></th>\n",
       "      <th></th>\n",
       "    </tr>\n",
       "  </thead>\n",
       "  <tbody>\n",
       "    <tr>\n",
       "      <th>2021-01-25</th>\n",
       "      <td>132.949997</td>\n",
       "      <td>131.000000</td>\n",
       "      <td>132.649994</td>\n",
       "      <td>131.399994</td>\n",
       "      <td>897215.0</td>\n",
       "      <td>131.399994</td>\n",
       "    </tr>\n",
       "    <tr>\n",
       "      <th>2021-01-26</th>\n",
       "      <td>135.399994</td>\n",
       "      <td>131.500000</td>\n",
       "      <td>131.500000</td>\n",
       "      <td>134.949997</td>\n",
       "      <td>1109386.0</td>\n",
       "      <td>134.949997</td>\n",
       "    </tr>\n",
       "    <tr>\n",
       "      <th>2021-01-27</th>\n",
       "      <td>137.399994</td>\n",
       "      <td>133.949997</td>\n",
       "      <td>135.500000</td>\n",
       "      <td>136.500000</td>\n",
       "      <td>1457320.0</td>\n",
       "      <td>136.500000</td>\n",
       "    </tr>\n",
       "    <tr>\n",
       "      <th>2021-01-28</th>\n",
       "      <td>137.149994</td>\n",
       "      <td>133.649994</td>\n",
       "      <td>135.100006</td>\n",
       "      <td>136.399994</td>\n",
       "      <td>949552.0</td>\n",
       "      <td>136.399994</td>\n",
       "    </tr>\n",
       "    <tr>\n",
       "      <th>2021-01-29</th>\n",
       "      <td>137.399994</td>\n",
       "      <td>133.699997</td>\n",
       "      <td>134.699997</td>\n",
       "      <td>135.000000</td>\n",
       "      <td>1306709.0</td>\n",
       "      <td>135.000000</td>\n",
       "    </tr>\n",
       "  </tbody>\n",
       "</table>\n",
       "</div>"
      ],
      "text/plain": [
       "                  High         Low        Open       Close     Volume  \\\n",
       "Date                                                                    \n",
       "2021-01-25  132.949997  131.000000  132.649994  131.399994   897215.0   \n",
       "2021-01-26  135.399994  131.500000  131.500000  134.949997  1109386.0   \n",
       "2021-01-27  137.399994  133.949997  135.500000  136.500000  1457320.0   \n",
       "2021-01-28  137.149994  133.649994  135.100006  136.399994   949552.0   \n",
       "2021-01-29  137.399994  133.699997  134.699997  135.000000  1306709.0   \n",
       "\n",
       "             Adj Close  \n",
       "Date                    \n",
       "2021-01-25  131.399994  \n",
       "2021-01-26  134.949997  \n",
       "2021-01-27  136.500000  \n",
       "2021-01-28  136.399994  \n",
       "2021-01-29  135.000000  "
      ]
     },
     "execution_count": 10,
     "metadata": {},
     "output_type": "execute_result"
    }
   ],
   "source": [
    "Airliquide_train.tail()"
   ]
  },
  {
   "cell_type": "code",
   "execution_count": 7,
   "metadata": {},
   "outputs": [],
   "source": [
    "Airliquide_train  = Airliquide_train.rename_axis('Date').reset_index()"
   ]
  },
  {
   "cell_type": "code",
   "execution_count": 8,
   "metadata": {},
   "outputs": [],
   "source": [
    "Airliquide_test  = Airliquide_test.rename_axis('Date').reset_index()"
   ]
  },
  {
   "cell_type": "code",
   "execution_count": 9,
   "metadata": {},
   "outputs": [],
   "source": [
    "dataset_train = Airliquide_train"
   ]
  },
  {
   "cell_type": "code",
   "execution_count": 10,
   "metadata": {},
   "outputs": [],
   "source": [
    "dataset_test = Airliquide_test"
   ]
  },
  {
   "cell_type": "code",
   "execution_count": 11,
   "metadata": {},
   "outputs": [],
   "source": [
    "# conversion de la feature Close en values pour keras \n",
    "train = dataset_train.iloc[:, 4:5]\n",
    "training_set = dataset_train.iloc[:, 4:5].values"
   ]
  },
  {
   "cell_type": "code",
   "execution_count": 12,
   "metadata": {},
   "outputs": [],
   "source": [
    "# conversion de la feature Close en values pour keras \n",
    "test = dataset_test.iloc[:, 4:5]\n",
    "testing_set = dataset_test.iloc[:, 4:5].values"
   ]
  },
  {
   "cell_type": "code",
   "execution_count": 17,
   "metadata": {},
   "outputs": [
    {
     "data": {
      "text/html": [
       "<div>\n",
       "<style scoped>\n",
       "    .dataframe tbody tr th:only-of-type {\n",
       "        vertical-align: middle;\n",
       "    }\n",
       "\n",
       "    .dataframe tbody tr th {\n",
       "        vertical-align: top;\n",
       "    }\n",
       "\n",
       "    .dataframe thead th {\n",
       "        text-align: right;\n",
       "    }\n",
       "</style>\n",
       "<table border=\"1\" class=\"dataframe\">\n",
       "  <thead>\n",
       "    <tr style=\"text-align: right;\">\n",
       "      <th></th>\n",
       "      <th>Close</th>\n",
       "    </tr>\n",
       "  </thead>\n",
       "  <tbody>\n",
       "    <tr>\n",
       "      <th>0</th>\n",
       "      <td>87.314049</td>\n",
       "    </tr>\n",
       "    <tr>\n",
       "      <th>1</th>\n",
       "      <td>87.231407</td>\n",
       "    </tr>\n",
       "    <tr>\n",
       "      <th>2</th>\n",
       "      <td>87.272728</td>\n",
       "    </tr>\n",
       "    <tr>\n",
       "      <th>3</th>\n",
       "      <td>87.644630</td>\n",
       "    </tr>\n",
       "    <tr>\n",
       "      <th>4</th>\n",
       "      <td>86.528923</td>\n",
       "    </tr>\n",
       "  </tbody>\n",
       "</table>\n",
       "</div>"
      ],
      "text/plain": [
       "       Close\n",
       "0  87.314049\n",
       "1  87.231407\n",
       "2  87.272728\n",
       "3  87.644630\n",
       "4  86.528923"
      ]
     },
     "execution_count": 17,
     "metadata": {},
     "output_type": "execute_result"
    }
   ],
   "source": [
    "train.head()"
   ]
  },
  {
   "cell_type": "code",
   "execution_count": 13,
   "metadata": {},
   "outputs": [
    {
     "data": {
      "text/plain": [
       "(1042, 1)"
      ]
     },
     "execution_count": 13,
     "metadata": {},
     "output_type": "execute_result"
    }
   ],
   "source": [
    "training_set.shape"
   ]
  },
  {
   "cell_type": "code",
   "execution_count": 14,
   "metadata": {},
   "outputs": [
    {
     "data": {
      "text/plain": [
       "1042"
      ]
     },
     "execution_count": 14,
     "metadata": {},
     "output_type": "execute_result"
    }
   ],
   "source": [
    "len(training_set)"
   ]
  },
  {
   "cell_type": "code",
   "execution_count": 15,
   "metadata": {},
   "outputs": [
    {
     "data": {
      "text/plain": [
       "20"
      ]
     },
     "execution_count": 15,
     "metadata": {},
     "output_type": "execute_result"
    }
   ],
   "source": [
    "len(testing_set)"
   ]
  },
  {
   "cell_type": "code",
   "execution_count": 13,
   "metadata": {},
   "outputs": [],
   "source": [
    "# Mise à l'échelle des data dans l'interval 0,1\n",
    "from sklearn.preprocessing import MinMaxScaler\n",
    "sc = MinMaxScaler(feature_range = (0, 1))\n",
    "training_set_scaled = sc.fit_transform(training_set)"
   ]
  },
  {
   "cell_type": "code",
   "execution_count": 14,
   "metadata": {},
   "outputs": [],
   "source": [
    "# Creation du train set pour une prévision de la valeur de l'action au jour j \n",
    "# basée sur les 60 jours précédents (3 mois) \n",
    "X_train = []\n",
    "y_train = []\n",
    "# Dans X_train, les 60 jours précédents le jour i\n",
    "# Dans y_train, le jour i\n",
    "# training_set_scaled étant une array, il faut ajouter le numéro de colonne, soit 0 \n",
    "for i in range(60, len(training_set)):\n",
    "    X_train.append(training_set_scaled[i-60:i, 0])\n",
    "    y_train.append(training_set_scaled[i, 0])\n",
    "# transformation des listes X_train et y_train en array avec numpy    \n",
    "X_train, y_train = np.array(X_train), np.array(y_train)"
   ]
  },
  {
   "cell_type": "code",
   "execution_count": 15,
   "metadata": {},
   "outputs": [],
   "source": [
    "# Redimensionnement en 3 dimensions nécessaire pour la modèlisation\n",
    "# cf doc Keras dans RNN et output shape\n",
    "# batchsize : nbre de lignes du dataset soit X_train.shape[0)\n",
    "# timestep : nbre de colonnes du dataset, soit X_train.shape[1], ici = 60 \n",
    "# input_dim = nbre de variables explicatives, ici 1\n",
    "X_train = np.reshape(X_train, (X_train.shape[0], X_train.shape[1], 1))"
   ]
  },
  {
   "cell_type": "markdown",
   "metadata": {},
   "source": [
    "## Partie 2 - RNN"
   ]
  },
  {
   "cell_type": "code",
   "execution_count": 16,
   "metadata": {},
   "outputs": [
    {
     "name": "stderr",
     "output_type": "stream",
     "text": [
      "Using TensorFlow backend.\n"
     ]
    }
   ],
   "source": [
    "# Import libraries Keras \n",
    "from keras.models import Sequential\n",
    "from keras.layers import Dense\n",
    "from keras.layers import LSTM\n",
    "from keras.layers import Dropout"
   ]
  },
  {
   "cell_type": "code",
   "execution_count": 17,
   "metadata": {},
   "outputs": [],
   "source": [
    "# Initialisation RNN avec Sequential()\n",
    "regressor = Sequential()"
   ]
  },
  {
   "cell_type": "code",
   "execution_count": 18,
   "metadata": {},
   "outputs": [],
   "source": [
    "# première couche LSTM et régularisation Dropout\n",
    "# units = nbre de neurones de la couche\n",
    "# return_sequences=True car dans le réseau on empile plusieurs couches LSTM\n",
    "# dans input_shape, indication du train set avec le nbre de time steps (60) et le nbre de feature, ici 1 \n",
    "regressor.add(LSTM(units = 100, return_sequences = True, input_shape = (X_train.shape[1], 1)))\n",
    "regressor.add(Dropout(0.1))"
   ]
  },
  {
   "cell_type": "code",
   "execution_count": 19,
   "metadata": {},
   "outputs": [],
   "source": [
    "# deuxième couche LSTM layer et régularisation Dropout identique couche précédente\n",
    "# entrées de cette couche = sortie de la couche précédente : input_shape inutile \n",
    "regressor.add(LSTM(units = 100, return_sequences = True))\n",
    "regressor.add(Dropout(0.1))\n",
    "# troisième couche LSTM layer et régularisation Dropout \n",
    "regressor.add(LSTM(units = 100, return_sequences = True))\n",
    "regressor.add(Dropout(0.1))\n",
    "# quatrième couche LSTM layer et régularisation Dropout \n",
    "# dernière couche LSTM : return_sequence = False (valeur par défaut)\n",
    "regressor.add(LSTM(units = 100))\n",
    "regressor.add(Dropout(0.1))"
   ]
  },
  {
   "cell_type": "code",
   "execution_count": 20,
   "metadata": {},
   "outputs": [],
   "source": [
    "# couche de sortie 1 seul neurone\n",
    "regressor.add(Dense(units = 1))"
   ]
  },
  {
   "cell_type": "code",
   "execution_count": 21,
   "metadata": {},
   "outputs": [],
   "source": [
    "# Compilation RNN\n",
    "# optimizer : cf doc Keras adam (ou RMSprop recommandé pour les RNN)\n",
    "regressor.compile(optimizer = 'adam', loss = 'mean_squared_error')"
   ]
  },
  {
   "cell_type": "code",
   "execution_count": 26,
   "metadata": {},
   "outputs": [
    {
     "name": "stdout",
     "output_type": "stream",
     "text": [
      "Model: \"sequential_1\"\n",
      "_________________________________________________________________\n",
      "Layer (type)                 Output Shape              Param #   \n",
      "=================================================================\n",
      "lstm_1 (LSTM)                (None, 60, 100)           40800     \n",
      "_________________________________________________________________\n",
      "dropout_1 (Dropout)          (None, 60, 100)           0         \n",
      "_________________________________________________________________\n",
      "lstm_2 (LSTM)                (None, 60, 100)           80400     \n",
      "_________________________________________________________________\n",
      "dropout_2 (Dropout)          (None, 60, 100)           0         \n",
      "_________________________________________________________________\n",
      "lstm_3 (LSTM)                (None, 60, 100)           80400     \n",
      "_________________________________________________________________\n",
      "dropout_3 (Dropout)          (None, 60, 100)           0         \n",
      "_________________________________________________________________\n",
      "lstm_4 (LSTM)                (None, 100)               80400     \n",
      "_________________________________________________________________\n",
      "dropout_4 (Dropout)          (None, 100)               0         \n",
      "_________________________________________________________________\n",
      "dense_1 (Dense)              (None, 1)                 101       \n",
      "=================================================================\n",
      "Total params: 282,101\n",
      "Trainable params: 282,101\n",
      "Non-trainable params: 0\n",
      "_________________________________________________________________\n"
     ]
    }
   ],
   "source": [
    "regressor.summary()"
   ]
  },
  {
   "cell_type": "code",
   "execution_count": 31,
   "metadata": {},
   "outputs": [
    {
     "name": "stdout",
     "output_type": "stream",
     "text": [
      "Epoch 1/50\n",
      "982/982 [==============================] - 11s 11ms/step - loss: 0.0018\n",
      "Epoch 2/50\n",
      "982/982 [==============================] - 11s 11ms/step - loss: 0.0021\n",
      "Epoch 3/50\n",
      "982/982 [==============================] - 12s 12ms/step - loss: 0.0026\n",
      "Epoch 4/50\n",
      "982/982 [==============================] - 12s 13ms/step - loss: 0.0022\n",
      "Epoch 5/50\n",
      "982/982 [==============================] - 13s 13ms/step - loss: 0.0019\n",
      "Epoch 6/50\n",
      "982/982 [==============================] - 13s 13ms/step - loss: 0.0023\n",
      "Epoch 7/50\n",
      "982/982 [==============================] - 14s 14ms/step - loss: 0.0023\n",
      "Epoch 8/50\n",
      "982/982 [==============================] - 14s 14ms/step - loss: 0.0019\n",
      "Epoch 9/50\n",
      "982/982 [==============================] - 14s 14ms/step - loss: 0.0018\n",
      "Epoch 10/50\n",
      "982/982 [==============================] - 14s 14ms/step - loss: 0.0016\n",
      "Epoch 11/50\n",
      "982/982 [==============================] - 14s 14ms/step - loss: 0.0017\n",
      "Epoch 12/50\n",
      "982/982 [==============================] - 14s 15ms/step - loss: 0.0019\n",
      "Epoch 13/50\n",
      "982/982 [==============================] - 14s 15ms/step - loss: 0.0016\n",
      "Epoch 14/50\n",
      "982/982 [==============================] - 14s 15ms/step - loss: 0.0015\n",
      "Epoch 15/50\n",
      "982/982 [==============================] - 14s 15ms/step - loss: 0.0016\n",
      "Epoch 16/50\n",
      "982/982 [==============================] - 15s 15ms/step - loss: 0.0017\n",
      "Epoch 17/50\n",
      "982/982 [==============================] - 15s 15ms/step - loss: 0.0016\n",
      "Epoch 18/50\n",
      "982/982 [==============================] - 15s 16ms/step - loss: 0.0018\n",
      "Epoch 19/50\n",
      "982/982 [==============================] - 15s 15ms/step - loss: 0.0021\n",
      "Epoch 20/50\n",
      "982/982 [==============================] - 15s 15ms/step - loss: 0.0014\n",
      "Epoch 21/50\n",
      "982/982 [==============================] - 15s 15ms/step - loss: 0.0018\n",
      "Epoch 22/50\n",
      "982/982 [==============================] - 15s 15ms/step - loss: 0.0014\n",
      "Epoch 23/50\n",
      "982/982 [==============================] - 15s 15ms/step - loss: 0.0014\n",
      "Epoch 24/50\n",
      "982/982 [==============================] - 15s 15ms/step - loss: 0.0014\n",
      "Epoch 25/50\n",
      "982/982 [==============================] - 15s 15ms/step - loss: 0.0014\n",
      "Epoch 26/50\n",
      "982/982 [==============================] - 15s 15ms/step - loss: 0.0015\n",
      "Epoch 27/50\n",
      "982/982 [==============================] - 15s 15ms/step - loss: 0.0015\n",
      "Epoch 28/50\n",
      "982/982 [==============================] - 15s 16ms/step - loss: 0.0013\n",
      "Epoch 29/50\n",
      "982/982 [==============================] - 15s 16ms/step - loss: 0.0014\n",
      "Epoch 30/50\n",
      "982/982 [==============================] - 15s 16ms/step - loss: 0.0013\n",
      "Epoch 31/50\n",
      "982/982 [==============================] - 16s 16ms/step - loss: 0.0013\n",
      "Epoch 32/50\n",
      "982/982 [==============================] - 15s 16ms/step - loss: 0.0017\n",
      "Epoch 33/50\n",
      "982/982 [==============================] - 16s 16ms/step - loss: 0.0012\n",
      "Epoch 34/50\n",
      "982/982 [==============================] - 15s 16ms/step - loss: 0.0013\n",
      "Epoch 35/50\n",
      "982/982 [==============================] - 16s 16ms/step - loss: 0.0013\n",
      "Epoch 36/50\n",
      "982/982 [==============================] - 16s 16ms/step - loss: 0.0015\n",
      "Epoch 37/50\n",
      "982/982 [==============================] - 16s 16ms/step - loss: 0.0013\n",
      "Epoch 38/50\n",
      "982/982 [==============================] - 16s 16ms/step - loss: 0.0012\n",
      "Epoch 39/50\n",
      "982/982 [==============================] - 16s 16ms/step - loss: 0.0014\n",
      "Epoch 40/50\n",
      "982/982 [==============================] - 16s 16ms/step - loss: 0.0014\n",
      "Epoch 41/50\n",
      "982/982 [==============================] - 16s 16ms/step - loss: 0.0015\n",
      "Epoch 42/50\n",
      "982/982 [==============================] - 16s 17ms/step - loss: 0.0014\n",
      "Epoch 43/50\n",
      "982/982 [==============================] - 16s 16ms/step - loss: 0.0013\n",
      "Epoch 44/50\n",
      "982/982 [==============================] - 16s 16ms/step - loss: 0.0013\n",
      "Epoch 45/50\n",
      "982/982 [==============================] - 16s 16ms/step - loss: 0.0015\n",
      "Epoch 46/50\n",
      "982/982 [==============================] - 16s 17ms/step - loss: 0.0011\n",
      "Epoch 47/50\n",
      "982/982 [==============================] - 17s 17ms/step - loss: 0.0012\n",
      "Epoch 48/50\n",
      "982/982 [==============================] - 17s 17ms/step - loss: 0.0012\n",
      "Epoch 49/50\n",
      "982/982 [==============================] - 17s 17ms/step - loss: 0.0012\n",
      "Epoch 50/50\n",
      "982/982 [==============================] - 17s 17ms/step - loss: 0.0011\n"
     ]
    },
    {
     "data": {
      "text/plain": [
       "<keras.callbacks.callbacks.History at 0x29fdc7fdf88>"
      ]
     },
     "execution_count": 31,
     "metadata": {},
     "output_type": "execute_result"
    }
   ],
   "source": [
    "# Fit le RNN sur train set\n",
    "# choisir les valeurs des hyperparamètres\n",
    "regressor.fit(X_train, y_train, epochs = 50, batch_size = 32)"
   ]
  },
  {
   "cell_type": "markdown",
   "metadata": {},
   "source": [
    "## Partie 3 - Prédictions"
   ]
  },
  {
   "cell_type": "code",
   "execution_count": 32,
   "metadata": {},
   "outputs": [],
   "source": [
    "# récupération des valeurs réelles (valeur de cloture) des actions dans le test set (20 valeurs de février)\n",
    "real_stock_price = testing_set"
   ]
  },
  {
   "cell_type": "code",
   "execution_count": 33,
   "metadata": {},
   "outputs": [],
   "source": [
    "# prédictions du feature Close \n",
    "# concaténation des datasets train et test d'origine, au niveau des lignes avec axis = 0 (l'un au dessus de l'autre)\n",
    "dataset_total = pd.concat((dataset_train['Close'], dataset_test['Close']), axis = 0)\n",
    "# dans inputs on met les 60 jours précédents le jour à prédire et ceci pour tous les jours du mois à prédire :\n",
    "# transformation en array pour keras\n",
    "inputs = dataset_total[len(dataset_total) - len(dataset_test) - 60:].values\n",
    "# redimensionnement nécessaire du dataset \n",
    "inputs = inputs.reshape(-1,1)\n",
    "# utilisation du meme objet sc utilisée pour l'entrainement\n",
    "inputs = sc.transform(inputs)\n",
    "\n",
    "# alimentation du X_test avec les valeurs inputs correspondantes \n",
    "X_test = []\n",
    "# range de 60 à 80 puisque test set de 20 lignes\n",
    "for i in range(60, 80):\n",
    "    X_test.append(inputs[i-60:i, 0])\n",
    "# transformation en array    \n",
    "X_test = np.array(X_test)\n",
    "# redimensionnement en 3 dimensions avec reshape pour obtenir un X_test avec 20 lignes, 60 colonnes et 1 en troisième dimension\n",
    "X_test = np.reshape(X_test, (X_test.shape[0], X_test.shape[1], 1))\n",
    "# prévisions avec fonction predict sur le modèle regressor \n",
    "predicted_stock_price = regressor.predict(X_test)\n",
    "# prévisions sur l'échelle d'orignie avec transformation inverse\n",
    "predicted_stock_price = sc.inverse_transform(predicted_stock_price)"
   ]
  },
  {
   "cell_type": "code",
   "execution_count": 34,
   "metadata": {},
   "outputs": [
    {
     "data": {
      "text/plain": [
       "0.8191232000572304"
      ]
     },
     "execution_count": 34,
     "metadata": {},
     "output_type": "execute_result"
    }
   ],
   "source": [
    "from sklearn.metrics import r2_score\n",
    "r2_score(real_stock_price, predicted_stock_price)"
   ]
  },
  {
   "cell_type": "code",
   "execution_count": 35,
   "metadata": {},
   "outputs": [
    {
     "data": {
      "text/plain": [
       "2.059739379899111"
      ]
     },
     "execution_count": 35,
     "metadata": {},
     "output_type": "execute_result"
    }
   ],
   "source": [
    "from sklearn.metrics import mean_squared_error\n",
    "mean_squared_error(real_stock_price, predicted_stock_price)"
   ]
  },
  {
   "cell_type": "code",
   "execution_count": 36,
   "metadata": {},
   "outputs": [
    {
     "data": {
      "text/plain": [
       "1.435179215254705"
      ]
     },
     "execution_count": 36,
     "metadata": {},
     "output_type": "execute_result"
    }
   ],
   "source": [
    "rmse = np.sqrt(mean_squared_error(real_stock_price, predicted_stock_price))\n",
    "rmse"
   ]
  },
  {
   "cell_type": "code",
   "execution_count": 37,
   "metadata": {},
   "outputs": [
    {
     "data": {
      "text/plain": [
       "133.41500091552734"
      ]
     },
     "execution_count": 37,
     "metadata": {},
     "output_type": "execute_result"
    }
   ],
   "source": [
    "# moyenne valeur action sur test set pour comparaison avec rmse\n",
    "dataset_test['Close'].mean()"
   ]
  },
  {
   "cell_type": "code",
   "execution_count": 38,
   "metadata": {},
   "outputs": [
    {
     "data": {
      "image/png": "[encoded data removed]",
      "text/plain": [
       "<Figure size 576x288 with 1 Axes>"
      ]
     },
     "metadata": {
      "needs_background": "light"
     },
     "output_type": "display_data"
    }
   ],
   "source": [
    "# Visu résultats vraies valeurs versus prévisions avec 50 époques\n",
    "plt.figure(figsize=(8,4))\n",
    "plt.plot(real_stock_price, color = 'red', label = 'Valeur réelle action')\n",
    "plt.plot(predicted_stock_price, color = 'blue', label = 'Valeur prédite action')\n",
    "plt.title('Prediction valeur action RNN')\n",
    "plt.xlabel('Time')\n",
    "plt.ylabel('Prix action')\n",
    "plt.legend()\n",
    "plt.show()"
   ]
  },
  {
   "cell_type": "code",
   "execution_count": null,
   "metadata": {},
   "outputs": [],
   "source": []
  }
 ],
 "metadata": {
  "kernelspec": {
   "display_name": "Python 3",
   "language": "python",
   "name": "python3"
  },
  "language_info": {
   "codemirror_mode": {
    "name": "ipython",
    "version": 3
   },
   "file_extension": ".py",
   "mimetype": "text/x-python",
   "name": "python",
   "nbconvert_exporter": "python",
   "pygments_lexer": "ipython3",
   "version": "3.8.3"
  }
 },
 "nbformat": 4,
 "nbformat_minor": 4
}
